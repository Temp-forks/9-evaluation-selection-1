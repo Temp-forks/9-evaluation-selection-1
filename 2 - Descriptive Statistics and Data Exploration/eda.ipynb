{
 "cells": [
  {
   "cell_type": "code",
   "execution_count": 3,
   "id": "b489cb9e",
   "metadata": {},
   "outputs": [],
   "source": [
    "import numpy as np\n",
    "import pandas as pd\n",
    "import matplotlib.pyplot as plt\n",
    "import seaborn as sns\n",
    "import missingno as msno\n",
    "titanic = pd.read_csv('D:\\\\ml-intro-rs-school\\\\2 - Descriptive Statistics and Data Exploration\\\\data\\\\train.csv')"
   ]
  },
  {
   "cell_type": "markdown",
   "id": "d07912a0",
   "metadata": {},
   "source": [
    "# Context"
   ]
  },
  {
   "cell_type": "markdown",
   "id": "6b981d68",
   "metadata": {
    "pycharm": {
     "name": "#%% md\n"
    }
   },
   "source": [
    "**Exploratory data analysis of Titanic dataset**"
   ]
  },
  {
   "cell_type": "markdown",
   "id": "9b4320c6",
   "metadata": {},
   "source": [
    "# Data quality assessment"
   ]
  },
  {
   "cell_type": "code",
   "execution_count": 4,
   "id": "2faa3b71",
   "metadata": {},
   "outputs": [
    {
     "data": {
      "text/plain": "   PassengerId  Survived  Pclass               Name     Sex    Age  SibSp  \\\n0            0         1       1   Oconnor, Frankie    male    NaN      2   \n1            1         0       3        Bryan, Drew    male    NaN      0   \n2            2         0       3     Owens, Kenneth    male   0.33      1   \n3            3         0       3      Kramer, James    male  19.00      0   \n4            4         1       3      Bond, Michael    male  25.00      0   \n5            5         0       2  Sassano, Jonathan    male  35.00      0   \n6            6         0       3       Conway, Jose    male   7.00      0   \n7            7         1       3      Werner, Linda  female   6.00      1   \n8            8         0       1   Wardlaw, Michael    male  27.00      2   \n9            9         0       2       Greigo, Rudy    male  66.00      0   \n\n   Parch     Ticket   Fare   Cabin Embarked  \n0      0     209245  27.14  C12239        S  \n1      0      27323  13.35     NaN        S  \n2      2  CA 457703  71.29     NaN        S  \n3      0   A. 10866  13.04     NaN        S  \n4      0     427635   7.76     NaN        S  \n5      0      13363   6.71     NaN        S  \n6      0       A/5    9.77     NaN        S  \n7      2     434426  31.50     NaN        S  \n8      1     474849  73.02   A7253        S  \n9      0       6981   9.14   D2969        C  ",
      "text/html": "<div>\n<style scoped>\n    .dataframe tbody tr th:only-of-type {\n        vertical-align: middle;\n    }\n\n    .dataframe tbody tr th {\n        vertical-align: top;\n    }\n\n    .dataframe thead th {\n        text-align: right;\n    }\n</style>\n<table border=\"1\" class=\"dataframe\">\n  <thead>\n    <tr style=\"text-align: right;\">\n      <th></th>\n      <th>PassengerId</th>\n      <th>Survived</th>\n      <th>Pclass</th>\n      <th>Name</th>\n      <th>Sex</th>\n      <th>Age</th>\n      <th>SibSp</th>\n      <th>Parch</th>\n      <th>Ticket</th>\n      <th>Fare</th>\n      <th>Cabin</th>\n      <th>Embarked</th>\n    </tr>\n  </thead>\n  <tbody>\n    <tr>\n      <th>0</th>\n      <td>0</td>\n      <td>1</td>\n      <td>1</td>\n      <td>Oconnor, Frankie</td>\n      <td>male</td>\n      <td>NaN</td>\n      <td>2</td>\n      <td>0</td>\n      <td>209245</td>\n      <td>27.14</td>\n      <td>C12239</td>\n      <td>S</td>\n    </tr>\n    <tr>\n      <th>1</th>\n      <td>1</td>\n      <td>0</td>\n      <td>3</td>\n      <td>Bryan, Drew</td>\n      <td>male</td>\n      <td>NaN</td>\n      <td>0</td>\n      <td>0</td>\n      <td>27323</td>\n      <td>13.35</td>\n      <td>NaN</td>\n      <td>S</td>\n    </tr>\n    <tr>\n      <th>2</th>\n      <td>2</td>\n      <td>0</td>\n      <td>3</td>\n      <td>Owens, Kenneth</td>\n      <td>male</td>\n      <td>0.33</td>\n      <td>1</td>\n      <td>2</td>\n      <td>CA 457703</td>\n      <td>71.29</td>\n      <td>NaN</td>\n      <td>S</td>\n    </tr>\n    <tr>\n      <th>3</th>\n      <td>3</td>\n      <td>0</td>\n      <td>3</td>\n      <td>Kramer, James</td>\n      <td>male</td>\n      <td>19.00</td>\n      <td>0</td>\n      <td>0</td>\n      <td>A. 10866</td>\n      <td>13.04</td>\n      <td>NaN</td>\n      <td>S</td>\n    </tr>\n    <tr>\n      <th>4</th>\n      <td>4</td>\n      <td>1</td>\n      <td>3</td>\n      <td>Bond, Michael</td>\n      <td>male</td>\n      <td>25.00</td>\n      <td>0</td>\n      <td>0</td>\n      <td>427635</td>\n      <td>7.76</td>\n      <td>NaN</td>\n      <td>S</td>\n    </tr>\n    <tr>\n      <th>5</th>\n      <td>5</td>\n      <td>0</td>\n      <td>2</td>\n      <td>Sassano, Jonathan</td>\n      <td>male</td>\n      <td>35.00</td>\n      <td>0</td>\n      <td>0</td>\n      <td>13363</td>\n      <td>6.71</td>\n      <td>NaN</td>\n      <td>S</td>\n    </tr>\n    <tr>\n      <th>6</th>\n      <td>6</td>\n      <td>0</td>\n      <td>3</td>\n      <td>Conway, Jose</td>\n      <td>male</td>\n      <td>7.00</td>\n      <td>0</td>\n      <td>0</td>\n      <td>A/5</td>\n      <td>9.77</td>\n      <td>NaN</td>\n      <td>S</td>\n    </tr>\n    <tr>\n      <th>7</th>\n      <td>7</td>\n      <td>1</td>\n      <td>3</td>\n      <td>Werner, Linda</td>\n      <td>female</td>\n      <td>6.00</td>\n      <td>1</td>\n      <td>2</td>\n      <td>434426</td>\n      <td>31.50</td>\n      <td>NaN</td>\n      <td>S</td>\n    </tr>\n    <tr>\n      <th>8</th>\n      <td>8</td>\n      <td>0</td>\n      <td>1</td>\n      <td>Wardlaw, Michael</td>\n      <td>male</td>\n      <td>27.00</td>\n      <td>2</td>\n      <td>1</td>\n      <td>474849</td>\n      <td>73.02</td>\n      <td>A7253</td>\n      <td>S</td>\n    </tr>\n    <tr>\n      <th>9</th>\n      <td>9</td>\n      <td>0</td>\n      <td>2</td>\n      <td>Greigo, Rudy</td>\n      <td>male</td>\n      <td>66.00</td>\n      <td>0</td>\n      <td>0</td>\n      <td>6981</td>\n      <td>9.14</td>\n      <td>D2969</td>\n      <td>C</td>\n    </tr>\n  </tbody>\n</table>\n</div>"
     },
     "execution_count": 4,
     "metadata": {},
     "output_type": "execute_result"
    }
   ],
   "source": [
    "titanic.head(10)"
   ]
  },
  {
   "cell_type": "code",
   "execution_count": 5,
   "id": "e443ca82",
   "metadata": {},
   "outputs": [
    {
     "name": "stdout",
     "output_type": "stream",
     "text": [
      "<class 'pandas.core.frame.DataFrame'>\n",
      "RangeIndex: 100000 entries, 0 to 99999\n",
      "Data columns (total 12 columns):\n",
      " #   Column       Non-Null Count   Dtype  \n",
      "---  ------       --------------   -----  \n",
      " 0   PassengerId  100000 non-null  int64  \n",
      " 1   Survived     100000 non-null  int64  \n",
      " 2   Pclass       100000 non-null  int64  \n",
      " 3   Name         100000 non-null  object \n",
      " 4   Sex          100000 non-null  object \n",
      " 5   Age          96708 non-null   float64\n",
      " 6   SibSp        100000 non-null  int64  \n",
      " 7   Parch        100000 non-null  int64  \n",
      " 8   Ticket       95377 non-null   object \n",
      " 9   Fare         99866 non-null   float64\n",
      " 10  Cabin        32134 non-null   object \n",
      " 11  Embarked     99750 non-null   object \n",
      "dtypes: float64(2), int64(5), object(5)\n",
      "memory usage: 9.2+ MB\n"
     ]
    }
   ],
   "source": [
    "titanic.info()"
   ]
  },
  {
   "cell_type": "code",
   "execution_count": 6,
   "id": "9af54db3",
   "metadata": {},
   "outputs": [
    {
     "data": {
      "text/html": [
       "<div>\n",
       "<style scoped>\n",
       "    .dataframe tbody tr th:only-of-type {\n",
       "        vertical-align: middle;\n",
       "    }\n",
       "\n",
       "    .dataframe tbody tr th {\n",
       "        vertical-align: top;\n",
       "    }\n",
       "\n",
       "    .dataframe thead th {\n",
       "        text-align: right;\n",
       "    }\n",
       "</style>\n",
       "<table border=\"1\" class=\"dataframe\">\n",
       "  <thead>\n",
       "    <tr style=\"text-align: right;\">\n",
       "      <th></th>\n",
       "      <th>PassengerId</th>\n",
       "      <th>Survived</th>\n",
       "      <th>Pclass</th>\n",
       "      <th>Age</th>\n",
       "      <th>SibSp</th>\n",
       "      <th>Parch</th>\n",
       "      <th>Fare</th>\n",
       "    </tr>\n",
       "  </thead>\n",
       "  <tbody>\n",
       "    <tr>\n",
       "      <th>count</th>\n",
       "      <td>100000.000000</td>\n",
       "      <td>100000.000000</td>\n",
       "      <td>100000.000000</td>\n",
       "      <td>96708.000000</td>\n",
       "      <td>100000.000000</td>\n",
       "      <td>100000.000000</td>\n",
       "      <td>99866.00000</td>\n",
       "    </tr>\n",
       "    <tr>\n",
       "      <th>mean</th>\n",
       "      <td>49999.500000</td>\n",
       "      <td>0.427740</td>\n",
       "      <td>2.106910</td>\n",
       "      <td>38.355472</td>\n",
       "      <td>0.397690</td>\n",
       "      <td>0.454560</td>\n",
       "      <td>43.92933</td>\n",
       "    </tr>\n",
       "    <tr>\n",
       "      <th>std</th>\n",
       "      <td>28867.657797</td>\n",
       "      <td>0.494753</td>\n",
       "      <td>0.837727</td>\n",
       "      <td>18.313556</td>\n",
       "      <td>0.862566</td>\n",
       "      <td>0.950076</td>\n",
       "      <td>69.58882</td>\n",
       "    </tr>\n",
       "    <tr>\n",
       "      <th>min</th>\n",
       "      <td>0.000000</td>\n",
       "      <td>0.000000</td>\n",
       "      <td>1.000000</td>\n",
       "      <td>0.080000</td>\n",
       "      <td>0.000000</td>\n",
       "      <td>0.000000</td>\n",
       "      <td>0.68000</td>\n",
       "    </tr>\n",
       "    <tr>\n",
       "      <th>25%</th>\n",
       "      <td>24999.750000</td>\n",
       "      <td>0.000000</td>\n",
       "      <td>1.000000</td>\n",
       "      <td>25.000000</td>\n",
       "      <td>0.000000</td>\n",
       "      <td>0.000000</td>\n",
       "      <td>10.04000</td>\n",
       "    </tr>\n",
       "    <tr>\n",
       "      <th>50%</th>\n",
       "      <td>49999.500000</td>\n",
       "      <td>0.000000</td>\n",
       "      <td>2.000000</td>\n",
       "      <td>39.000000</td>\n",
       "      <td>0.000000</td>\n",
       "      <td>0.000000</td>\n",
       "      <td>24.46000</td>\n",
       "    </tr>\n",
       "    <tr>\n",
       "      <th>75%</th>\n",
       "      <td>74999.250000</td>\n",
       "      <td>1.000000</td>\n",
       "      <td>3.000000</td>\n",
       "      <td>53.000000</td>\n",
       "      <td>1.000000</td>\n",
       "      <td>1.000000</td>\n",
       "      <td>33.50000</td>\n",
       "    </tr>\n",
       "    <tr>\n",
       "      <th>max</th>\n",
       "      <td>99999.000000</td>\n",
       "      <td>1.000000</td>\n",
       "      <td>3.000000</td>\n",
       "      <td>87.000000</td>\n",
       "      <td>8.000000</td>\n",
       "      <td>9.000000</td>\n",
       "      <td>744.66000</td>\n",
       "    </tr>\n",
       "  </tbody>\n",
       "</table>\n",
       "</div>"
      ],
      "text/plain": [
       "         PassengerId       Survived         Pclass           Age  \\\n",
       "count  100000.000000  100000.000000  100000.000000  96708.000000   \n",
       "mean    49999.500000       0.427740       2.106910     38.355472   \n",
       "std     28867.657797       0.494753       0.837727     18.313556   \n",
       "min         0.000000       0.000000       1.000000      0.080000   \n",
       "25%     24999.750000       0.000000       1.000000     25.000000   \n",
       "50%     49999.500000       0.000000       2.000000     39.000000   \n",
       "75%     74999.250000       1.000000       3.000000     53.000000   \n",
       "max     99999.000000       1.000000       3.000000     87.000000   \n",
       "\n",
       "               SibSp          Parch         Fare  \n",
       "count  100000.000000  100000.000000  99866.00000  \n",
       "mean        0.397690       0.454560     43.92933  \n",
       "std         0.862566       0.950076     69.58882  \n",
       "min         0.000000       0.000000      0.68000  \n",
       "25%         0.000000       0.000000     10.04000  \n",
       "50%         0.000000       0.000000     24.46000  \n",
       "75%         1.000000       1.000000     33.50000  \n",
       "max         8.000000       9.000000    744.66000  "
      ]
     },
     "execution_count": 6,
     "metadata": {},
     "output_type": "execute_result"
    }
   ],
   "source": [
    "titanic.describe()"
   ]
  },
  {
   "cell_type": "code",
   "execution_count": 7,
   "id": "9ca1610c",
   "metadata": {
    "scrolled": true
   },
   "outputs": [
    {
     "data": {
      "text/plain": [
       "Cabin          67866\n",
       "Ticket          4623\n",
       "Age             3292\n",
       "Embarked         250\n",
       "Fare             134\n",
       "PassengerId        0\n",
       "Survived           0\n",
       "Pclass             0\n",
       "Name               0\n",
       "Sex                0\n",
       "SibSp              0\n",
       "Parch              0\n",
       "dtype: int64"
      ]
     },
     "execution_count": 7,
     "metadata": {},
     "output_type": "execute_result"
    }
   ],
   "source": [
    "titanic.isnull().sum().sort_values(ascending=False)\n",
    "#наибольшее кол-во пропущенных значений - кабина, затем идут номер билета и возраст"
   ]
  },
  {
   "cell_type": "code",
   "execution_count": 8,
   "id": "93eb814e",
   "metadata": {},
   "outputs": [
    {
     "data": {
      "text/plain": [
       "<AxesSubplot:>"
      ]
     },
     "execution_count": 8,
     "metadata": {},
     "output_type": "execute_result"
    },
    {
     "data": {
      "image/png": "[encoded data removed]",
      "text/plain": [
       "<Figure size 1800x720 with 2 Axes>"
      ]
     },
     "metadata": {
      "needs_background": "light"
     },
     "output_type": "display_data"
    }
   ],
   "source": [
    "msno.matrix(titanic)"
   ]
  },
  {
   "cell_type": "code",
   "execution_count": 70,
   "id": "6ff9e71e",
   "metadata": {},
   "outputs": [
    {
     "data": {
      "text/html": [
       "<div>\n",
       "<style scoped>\n",
       "    .dataframe tbody tr th:only-of-type {\n",
       "        vertical-align: middle;\n",
       "    }\n",
       "\n",
       "    .dataframe tbody tr th {\n",
       "        vertical-align: top;\n",
       "    }\n",
       "\n",
       "    .dataframe thead th {\n",
       "        text-align: right;\n",
       "    }\n",
       "</style>\n",
       "<table border=\"1\" class=\"dataframe\">\n",
       "  <thead>\n",
       "    <tr style=\"text-align: right;\">\n",
       "      <th></th>\n",
       "      <th>PassengerId</th>\n",
       "      <th>Survived</th>\n",
       "      <th>Pclass</th>\n",
       "      <th>Age</th>\n",
       "      <th>SibSp</th>\n",
       "      <th>Parch</th>\n",
       "      <th>Fare</th>\n",
       "    </tr>\n",
       "    <tr>\n",
       "      <th>Age</th>\n",
       "      <th></th>\n",
       "      <th></th>\n",
       "      <th></th>\n",
       "      <th></th>\n",
       "      <th></th>\n",
       "      <th></th>\n",
       "      <th></th>\n",
       "    </tr>\n",
       "  </thead>\n",
       "  <tbody>\n",
       "    <tr>\n",
       "      <th>False</th>\n",
       "      <td>50010.689674</td>\n",
       "      <td>0.428279</td>\n",
       "      <td>2.106206</td>\n",
       "      <td>38.355472</td>\n",
       "      <td>0.398240</td>\n",
       "      <td>0.455278</td>\n",
       "      <td>43.940262</td>\n",
       "    </tr>\n",
       "    <tr>\n",
       "      <th>True</th>\n",
       "      <td>49670.784629</td>\n",
       "      <td>0.411908</td>\n",
       "      <td>2.127582</td>\n",
       "      <td>NaN</td>\n",
       "      <td>0.381531</td>\n",
       "      <td>0.433475</td>\n",
       "      <td>43.608126</td>\n",
       "    </tr>\n",
       "  </tbody>\n",
       "</table>\n",
       "</div>"
      ],
      "text/plain": [
       "        PassengerId  Survived    Pclass        Age     SibSp     Parch  \\\n",
       "Age                                                                      \n",
       "False  50010.689674  0.428279  2.106206  38.355472  0.398240  0.455278   \n",
       "True   49670.784629  0.411908  2.127582        NaN  0.381531  0.433475   \n",
       "\n",
       "            Fare  \n",
       "Age               \n",
       "False  43.940262  \n",
       "True   43.608126  "
      ]
     },
     "execution_count": 70,
     "metadata": {},
     "output_type": "execute_result"
    }
   ],
   "source": [
    "titanic.groupby(titanic['Age'].isnull()).mean()\n",
    "# в среднем пассажиры с указанным возрастом и без него имеют примерно одинаковые хар-ки"
   ]
  },
  {
   "cell_type": "code",
   "execution_count": 78,
   "id": "7756ae46",
   "metadata": {},
   "outputs": [
    {
     "name": "stdout",
     "output_type": "stream",
     "text": [
      "PassengerId - 0%\n",
      "Survived - 0%\n",
      "Pclass - 0%\n",
      "Name - 0%\n",
      "Sex - 0%\n",
      "Age - 3%\n",
      "SibSp - 0%\n",
      "Parch - 0%\n",
      "Ticket - 5%\n",
      "Fare - 0%\n",
      "Cabin - 68%\n",
      "Embarked - 0%\n"
     ]
    }
   ],
   "source": [
    "for col in titanic.columns:\n",
    "    pct_missing = titanic[col].isnull().mean()\n",
    "    print('{} - {}%'.format(col, round(pct_missing*100)))"
   ]
  },
  {
   "cell_type": "markdown",
   "id": "5408eca5",
   "metadata": {},
   "source": [
    "# Data exploration"
   ]
  },
  {
   "cell_type": "code",
   "execution_count": 87,
   "id": "2417286d",
   "metadata": {},
   "outputs": [
    {
     "data": {
      "text/html": [
       "<div>\n",
       "<style scoped>\n",
       "    .dataframe tbody tr th:only-of-type {\n",
       "        vertical-align: middle;\n",
       "    }\n",
       "\n",
       "    .dataframe tbody tr th {\n",
       "        vertical-align: top;\n",
       "    }\n",
       "\n",
       "    .dataframe thead th {\n",
       "        text-align: right;\n",
       "    }\n",
       "</style>\n",
       "<table border=\"1\" class=\"dataframe\">\n",
       "  <thead>\n",
       "    <tr style=\"text-align: right;\">\n",
       "      <th></th>\n",
       "      <th>PassengerId</th>\n",
       "      <th>Survived</th>\n",
       "      <th>Pclass</th>\n",
       "      <th>Name</th>\n",
       "      <th>Sex</th>\n",
       "      <th>Age</th>\n",
       "      <th>SibSp</th>\n",
       "      <th>Parch</th>\n",
       "      <th>Ticket</th>\n",
       "      <th>Fare</th>\n",
       "      <th>Cabin</th>\n",
       "      <th>Embarked</th>\n",
       "    </tr>\n",
       "  </thead>\n",
       "  <tbody>\n",
       "    <tr>\n",
       "      <th>0</th>\n",
       "      <td>0</td>\n",
       "      <td>1</td>\n",
       "      <td>1</td>\n",
       "      <td>Oconnor, Frankie</td>\n",
       "      <td>male</td>\n",
       "      <td>NaN</td>\n",
       "      <td>2</td>\n",
       "      <td>0</td>\n",
       "      <td>209245</td>\n",
       "      <td>27.14</td>\n",
       "      <td>C12239</td>\n",
       "      <td>S</td>\n",
       "    </tr>\n",
       "    <tr>\n",
       "      <th>1</th>\n",
       "      <td>1</td>\n",
       "      <td>0</td>\n",
       "      <td>3</td>\n",
       "      <td>Bryan, Drew</td>\n",
       "      <td>male</td>\n",
       "      <td>NaN</td>\n",
       "      <td>0</td>\n",
       "      <td>0</td>\n",
       "      <td>27323</td>\n",
       "      <td>13.35</td>\n",
       "      <td>NaN</td>\n",
       "      <td>S</td>\n",
       "    </tr>\n",
       "    <tr>\n",
       "      <th>2</th>\n",
       "      <td>2</td>\n",
       "      <td>0</td>\n",
       "      <td>3</td>\n",
       "      <td>Owens, Kenneth</td>\n",
       "      <td>male</td>\n",
       "      <td>0.33</td>\n",
       "      <td>1</td>\n",
       "      <td>2</td>\n",
       "      <td>CA 457703</td>\n",
       "      <td>71.29</td>\n",
       "      <td>NaN</td>\n",
       "      <td>S</td>\n",
       "    </tr>\n",
       "    <tr>\n",
       "      <th>3</th>\n",
       "      <td>3</td>\n",
       "      <td>0</td>\n",
       "      <td>3</td>\n",
       "      <td>Kramer, James</td>\n",
       "      <td>male</td>\n",
       "      <td>19.00</td>\n",
       "      <td>0</td>\n",
       "      <td>0</td>\n",
       "      <td>A. 10866</td>\n",
       "      <td>13.04</td>\n",
       "      <td>NaN</td>\n",
       "      <td>S</td>\n",
       "    </tr>\n",
       "    <tr>\n",
       "      <th>4</th>\n",
       "      <td>4</td>\n",
       "      <td>1</td>\n",
       "      <td>3</td>\n",
       "      <td>Bond, Michael</td>\n",
       "      <td>male</td>\n",
       "      <td>25.00</td>\n",
       "      <td>0</td>\n",
       "      <td>0</td>\n",
       "      <td>427635</td>\n",
       "      <td>7.76</td>\n",
       "      <td>NaN</td>\n",
       "      <td>S</td>\n",
       "    </tr>\n",
       "    <tr>\n",
       "      <th>5</th>\n",
       "      <td>5</td>\n",
       "      <td>0</td>\n",
       "      <td>2</td>\n",
       "      <td>Sassano, Jonathan</td>\n",
       "      <td>male</td>\n",
       "      <td>35.00</td>\n",
       "      <td>0</td>\n",
       "      <td>0</td>\n",
       "      <td>13363</td>\n",
       "      <td>6.71</td>\n",
       "      <td>NaN</td>\n",
       "      <td>S</td>\n",
       "    </tr>\n",
       "    <tr>\n",
       "      <th>6</th>\n",
       "      <td>6</td>\n",
       "      <td>0</td>\n",
       "      <td>3</td>\n",
       "      <td>Conway, Jose</td>\n",
       "      <td>male</td>\n",
       "      <td>7.00</td>\n",
       "      <td>0</td>\n",
       "      <td>0</td>\n",
       "      <td>A/5</td>\n",
       "      <td>9.77</td>\n",
       "      <td>NaN</td>\n",
       "      <td>S</td>\n",
       "    </tr>\n",
       "    <tr>\n",
       "      <th>7</th>\n",
       "      <td>7</td>\n",
       "      <td>1</td>\n",
       "      <td>3</td>\n",
       "      <td>Werner, Linda</td>\n",
       "      <td>female</td>\n",
       "      <td>6.00</td>\n",
       "      <td>1</td>\n",
       "      <td>2</td>\n",
       "      <td>434426</td>\n",
       "      <td>31.50</td>\n",
       "      <td>NaN</td>\n",
       "      <td>S</td>\n",
       "    </tr>\n",
       "    <tr>\n",
       "      <th>8</th>\n",
       "      <td>8</td>\n",
       "      <td>0</td>\n",
       "      <td>1</td>\n",
       "      <td>Wardlaw, Michael</td>\n",
       "      <td>male</td>\n",
       "      <td>27.00</td>\n",
       "      <td>2</td>\n",
       "      <td>1</td>\n",
       "      <td>474849</td>\n",
       "      <td>73.02</td>\n",
       "      <td>A7253</td>\n",
       "      <td>S</td>\n",
       "    </tr>\n",
       "    <tr>\n",
       "      <th>9</th>\n",
       "      <td>9</td>\n",
       "      <td>0</td>\n",
       "      <td>2</td>\n",
       "      <td>Greigo, Rudy</td>\n",
       "      <td>male</td>\n",
       "      <td>66.00</td>\n",
       "      <td>0</td>\n",
       "      <td>0</td>\n",
       "      <td>6981</td>\n",
       "      <td>9.14</td>\n",
       "      <td>D2969</td>\n",
       "      <td>C</td>\n",
       "    </tr>\n",
       "  </tbody>\n",
       "</table>\n",
       "</div>"
      ],
      "text/plain": [
       "   PassengerId  Survived  Pclass               Name     Sex    Age  SibSp  \\\n",
       "0            0         1       1   Oconnor, Frankie    male    NaN      2   \n",
       "1            1         0       3        Bryan, Drew    male    NaN      0   \n",
       "2            2         0       3     Owens, Kenneth    male   0.33      1   \n",
       "3            3         0       3      Kramer, James    male  19.00      0   \n",
       "4            4         1       3      Bond, Michael    male  25.00      0   \n",
       "5            5         0       2  Sassano, Jonathan    male  35.00      0   \n",
       "6            6         0       3       Conway, Jose    male   7.00      0   \n",
       "7            7         1       3      Werner, Linda  female   6.00      1   \n",
       "8            8         0       1   Wardlaw, Michael    male  27.00      2   \n",
       "9            9         0       2       Greigo, Rudy    male  66.00      0   \n",
       "\n",
       "   Parch     Ticket   Fare   Cabin Embarked  \n",
       "0      0     209245  27.14  C12239        S  \n",
       "1      0      27323  13.35     NaN        S  \n",
       "2      2  CA 457703  71.29     NaN        S  \n",
       "3      0   A. 10866  13.04     NaN        S  \n",
       "4      0     427635   7.76     NaN        S  \n",
       "5      0      13363   6.71     NaN        S  \n",
       "6      0       A/5    9.77     NaN        S  \n",
       "7      2     434426  31.50     NaN        S  \n",
       "8      1     474849  73.02   A7253        S  \n",
       "9      0       6981   9.14   D2969        C  "
      ]
     },
     "execution_count": 87,
     "metadata": {},
     "output_type": "execute_result"
    }
   ],
   "source": [
    "titanic.head(10)"
   ]
  },
  {
   "cell_type": "code",
   "execution_count": 11,
   "id": "11d4fdb0",
   "metadata": {},
   "outputs": [
    {
     "data": {
      "text/html": [
       "<div>\n",
       "<style scoped>\n",
       "    .dataframe tbody tr th:only-of-type {\n",
       "        vertical-align: middle;\n",
       "    }\n",
       "\n",
       "    .dataframe tbody tr th {\n",
       "        vertical-align: top;\n",
       "    }\n",
       "\n",
       "    .dataframe thead th {\n",
       "        text-align: right;\n",
       "    }\n",
       "</style>\n",
       "<table border=\"1\" class=\"dataframe\">\n",
       "  <thead>\n",
       "    <tr style=\"text-align: right;\">\n",
       "      <th></th>\n",
       "      <th>PassengerId</th>\n",
       "      <th>Pclass</th>\n",
       "      <th>Name</th>\n",
       "      <th>Sex</th>\n",
       "      <th>Age</th>\n",
       "      <th>SibSp</th>\n",
       "      <th>Parch</th>\n",
       "      <th>Ticket</th>\n",
       "      <th>Fare</th>\n",
       "      <th>Cabin</th>\n",
       "      <th>Embarked</th>\n",
       "    </tr>\n",
       "    <tr>\n",
       "      <th>Survived</th>\n",
       "      <th></th>\n",
       "      <th></th>\n",
       "      <th></th>\n",
       "      <th></th>\n",
       "      <th></th>\n",
       "      <th></th>\n",
       "      <th></th>\n",
       "      <th></th>\n",
       "      <th></th>\n",
       "      <th></th>\n",
       "      <th></th>\n",
       "    </tr>\n",
       "  </thead>\n",
       "  <tbody>\n",
       "    <tr>\n",
       "      <th>0</th>\n",
       "      <td>57226</td>\n",
       "      <td>57226</td>\n",
       "      <td>57226</td>\n",
       "      <td>57226</td>\n",
       "      <td>55290</td>\n",
       "      <td>57226</td>\n",
       "      <td>57226</td>\n",
       "      <td>55016</td>\n",
       "      <td>57153</td>\n",
       "      <td>12577</td>\n",
       "      <td>57098</td>\n",
       "    </tr>\n",
       "    <tr>\n",
       "      <th>1</th>\n",
       "      <td>42774</td>\n",
       "      <td>42774</td>\n",
       "      <td>42774</td>\n",
       "      <td>42774</td>\n",
       "      <td>41418</td>\n",
       "      <td>42774</td>\n",
       "      <td>42774</td>\n",
       "      <td>40361</td>\n",
       "      <td>42713</td>\n",
       "      <td>19557</td>\n",
       "      <td>42652</td>\n",
       "    </tr>\n",
       "  </tbody>\n",
       "</table>\n",
       "</div>"
      ],
      "text/plain": [
       "          PassengerId  Pclass   Name    Sex    Age  SibSp  Parch  Ticket  \\\n",
       "Survived                                                                   \n",
       "0               57226   57226  57226  57226  55290  57226  57226   55016   \n",
       "1               42774   42774  42774  42774  41418  42774  42774   40361   \n",
       "\n",
       "           Fare  Cabin  Embarked  \n",
       "Survived                          \n",
       "0         57153  12577     57098  \n",
       "1         42713  19557     42652  "
      ]
     },
     "execution_count": 11,
     "metadata": {},
     "output_type": "execute_result"
    }
   ],
   "source": [
    "titanic.groupby('Survived').count()\n",
    "#выжило - 42774 человека, погибло - 57226"
   ]
  },
  {
   "cell_type": "code",
   "execution_count": 12,
   "id": "9decaed2",
   "metadata": {},
   "outputs": [
    {
     "data": {
      "text/html": [
       "<div>\n",
       "<style scoped>\n",
       "    .dataframe tbody tr th:only-of-type {\n",
       "        vertical-align: middle;\n",
       "    }\n",
       "\n",
       "    .dataframe tbody tr th {\n",
       "        vertical-align: top;\n",
       "    }\n",
       "\n",
       "    .dataframe thead th {\n",
       "        text-align: right;\n",
       "    }\n",
       "</style>\n",
       "<table border=\"1\" class=\"dataframe\">\n",
       "  <thead>\n",
       "    <tr style=\"text-align: right;\">\n",
       "      <th></th>\n",
       "      <th>PassengerId</th>\n",
       "      <th>Pclass</th>\n",
       "      <th>Age</th>\n",
       "      <th>SibSp</th>\n",
       "      <th>Parch</th>\n",
       "      <th>Fare</th>\n",
       "    </tr>\n",
       "    <tr>\n",
       "      <th>Survived</th>\n",
       "      <th></th>\n",
       "      <th></th>\n",
       "      <th></th>\n",
       "      <th></th>\n",
       "      <th></th>\n",
       "      <th></th>\n",
       "    </tr>\n",
       "  </thead>\n",
       "  <tbody>\n",
       "    <tr>\n",
       "      <th>0</th>\n",
       "      <td>49950.693636</td>\n",
       "      <td>2.316744</td>\n",
       "      <td>36.708695</td>\n",
       "      <td>0.403348</td>\n",
       "      <td>0.435379</td>\n",
       "      <td>32.647516</td>\n",
       "    </tr>\n",
       "    <tr>\n",
       "      <th>1</th>\n",
       "      <td>50064.796512</td>\n",
       "      <td>1.826179</td>\n",
       "      <td>40.553799</td>\n",
       "      <td>0.390120</td>\n",
       "      <td>0.480222</td>\n",
       "      <td>59.025192</td>\n",
       "    </tr>\n",
       "  </tbody>\n",
       "</table>\n",
       "</div>"
      ],
      "text/plain": [
       "           PassengerId    Pclass        Age     SibSp     Parch       Fare\n",
       "Survived                                                                  \n",
       "0         49950.693636  2.316744  36.708695  0.403348  0.435379  32.647516\n",
       "1         50064.796512  1.826179  40.553799  0.390120  0.480222  59.025192"
      ]
     },
     "execution_count": 12,
     "metadata": {},
     "output_type": "execute_result"
    }
   ],
   "source": [
    "titanic.groupby('Survived').mean()\n",
    "#в среднем стоимость билета выживших пассажиров выше, чем у погибших, а так же класс пассажира выше у выживших"
   ]
  },
  {
   "cell_type": "code",
   "execution_count": null,
   "id": "009357f5",
   "metadata": {},
   "outputs": [],
   "source": []
  },
  {
   "cell_type": "code",
   "execution_count": 13,
   "id": "1ff67572",
   "metadata": {
    "scrolled": true
   },
   "outputs": [
    {
     "data": {
      "text/html": [
       "<div>\n",
       "<style scoped>\n",
       "    .dataframe tbody tr th:only-of-type {\n",
       "        vertical-align: middle;\n",
       "    }\n",
       "\n",
       "    .dataframe tbody tr th {\n",
       "        vertical-align: top;\n",
       "    }\n",
       "\n",
       "    .dataframe thead th {\n",
       "        text-align: right;\n",
       "    }\n",
       "</style>\n",
       "<table border=\"1\" class=\"dataframe\">\n",
       "  <thead>\n",
       "    <tr style=\"text-align: right;\">\n",
       "      <th></th>\n",
       "      <th>Sex</th>\n",
       "      <th>Survived</th>\n",
       "    </tr>\n",
       "  </thead>\n",
       "  <tbody>\n",
       "    <tr>\n",
       "      <th>0</th>\n",
       "      <td>female</td>\n",
       "      <td>0.711525</td>\n",
       "    </tr>\n",
       "    <tr>\n",
       "      <th>1</th>\n",
       "      <td>male</td>\n",
       "      <td>0.205795</td>\n",
       "    </tr>\n",
       "  </tbody>\n",
       "</table>\n",
       "</div>"
      ],
      "text/plain": [
       "      Sex  Survived\n",
       "0  female  0.711525\n",
       "1    male  0.205795"
      ]
     },
     "execution_count": 13,
     "metadata": {},
     "output_type": "execute_result"
    }
   ],
   "source": [
    "titanic[['Sex', 'Survived']].groupby('Sex', as_index=False).mean()"
   ]
  },
  {
   "cell_type": "code",
   "execution_count": 14,
   "id": "a84eac1b",
   "metadata": {},
   "outputs": [
    {
     "data": {
      "text/plain": [
       "<AxesSubplot:xlabel='Sex', ylabel='Survived'>"
      ]
     },
     "execution_count": 14,
     "metadata": {},
     "output_type": "execute_result"
    },
    {
     "data": {
      "image/png": "[encoded data removed]",
      "text/plain": [
       "<Figure size 432x288 with 1 Axes>"
      ]
     },
     "metadata": {
      "needs_background": "light"
     },
     "output_type": "display_data"
    }
   ],
   "source": [
    "sns.barplot(x='Sex', y='Survived', data=titanic)"
   ]
  },
  {
   "cell_type": "code",
   "execution_count": 15,
   "id": "0a6e2e9a",
   "metadata": {},
   "outputs": [
    {
     "data": {
      "text/plain": [
       "3    41006\n",
       "1    30315\n",
       "2    28679\n",
       "Name: Pclass, dtype: int64"
      ]
     },
     "execution_count": 15,
     "metadata": {},
     "output_type": "execute_result"
    }
   ],
   "source": [
    "titanic['Pclass'].value_counts()"
   ]
  },
  {
   "cell_type": "code",
   "execution_count": 16,
   "id": "4287f6fe",
   "metadata": {},
   "outputs": [
    {
     "data": {
      "text/html": [
       "<div>\n",
       "<style scoped>\n",
       "    .dataframe tbody tr th:only-of-type {\n",
       "        vertical-align: middle;\n",
       "    }\n",
       "\n",
       "    .dataframe tbody tr th {\n",
       "        vertical-align: top;\n",
       "    }\n",
       "\n",
       "    .dataframe thead th {\n",
       "        text-align: right;\n",
       "    }\n",
       "</style>\n",
       "<table border=\"1\" class=\"dataframe\">\n",
       "  <thead>\n",
       "    <tr style=\"text-align: right;\">\n",
       "      <th></th>\n",
       "      <th>Pclass</th>\n",
       "      <th>Survived</th>\n",
       "    </tr>\n",
       "  </thead>\n",
       "  <tbody>\n",
       "    <tr>\n",
       "      <th>0</th>\n",
       "      <td>1</td>\n",
       "      <td>0.579779</td>\n",
       "    </tr>\n",
       "    <tr>\n",
       "      <th>1</th>\n",
       "      <td>2</td>\n",
       "      <td>0.525018</td>\n",
       "    </tr>\n",
       "    <tr>\n",
       "      <th>2</th>\n",
       "      <td>3</td>\n",
       "      <td>0.247305</td>\n",
       "    </tr>\n",
       "  </tbody>\n",
       "</table>\n",
       "</div>"
      ],
      "text/plain": [
       "   Pclass  Survived\n",
       "0       1  0.579779\n",
       "1       2  0.525018\n",
       "2       3  0.247305"
      ]
     },
     "execution_count": 16,
     "metadata": {},
     "output_type": "execute_result"
    }
   ],
   "source": [
    "titanic[['Pclass', 'Survived']].groupby('Pclass', as_index=False).mean()"
   ]
  },
  {
   "cell_type": "code",
   "execution_count": 17,
   "id": "772bc6ce",
   "metadata": {},
   "outputs": [
    {
     "data": {
      "text/plain": [
       "<AxesSubplot:xlabel='Pclass', ylabel='Survived'>"
      ]
     },
     "execution_count": 17,
     "metadata": {},
     "output_type": "execute_result"
    },
    {
     "data": {
      "image/png": "[encoded data removed]",
      "text/plain": [
       "<Figure size 432x288 with 1 Axes>"
      ]
     },
     "metadata": {
      "needs_background": "light"
     },
     "output_type": "display_data"
    }
   ],
   "source": [
    "sns.barplot(x='Pclass', y='Survived', data=titanic)"
   ]
  },
  {
   "cell_type": "code",
   "execution_count": 18,
   "id": "62406b0d",
   "metadata": {},
   "outputs": [
    {
     "data": {
      "text/plain": [
       "<AxesSubplot:>"
      ]
     },
     "execution_count": 18,
     "metadata": {},
     "output_type": "execute_result"
    },
    {
     "data": {
      "image/png": "[encoded data removed]",
      "text/plain": [
       "<Figure size 432x288 with 2 Axes>"
      ]
     },
     "metadata": {
      "needs_background": "light"
     },
     "output_type": "display_data"
    }
   ],
   "source": [
    "sns.heatmap(titanic[['Survived', 'SibSp', 'Parch', 'Fare', 'Age']].corr(), annot=True, cmap='jet')"
   ]
  },
  {
   "cell_type": "code",
   "execution_count": 19,
   "id": "bbe928d1",
   "metadata": {},
   "outputs": [
    {
     "data": {
      "text/plain": [
       "<seaborn.axisgrid.FacetGrid at 0x282b15b81f0>"
      ]
     },
     "execution_count": 19,
     "metadata": {},
     "output_type": "execute_result"
    },
    {
     "data": {
      "image/png": "[encoded data removed]",
      "text/plain": [
       "<Figure size 360x360 with 1 Axes>"
      ]
     },
     "metadata": {
      "needs_background": "light"
     },
     "output_type": "display_data"
    }
   ],
   "source": [
    "sns.displot(titanic[titanic['Survived'] == 1]['Age'])"
   ]
  },
  {
   "cell_type": "code",
   "execution_count": 20,
   "id": "5b8216e7",
   "metadata": {},
   "outputs": [
    {
     "data": {
      "text/plain": [
       "<seaborn.axisgrid.FacetGrid at 0x282b1b406d0>"
      ]
     },
     "execution_count": 20,
     "metadata": {},
     "output_type": "execute_result"
    },
    {
     "data": {
      "image/png": "[encoded data removed]",
      "text/plain": [
       "<Figure size 360x360 with 1 Axes>"
      ]
     },
     "metadata": {
      "needs_background": "light"
     },
     "output_type": "display_data"
    }
   ],
   "source": [
    "sns.displot(titanic[titanic['Survived'] == 0]['Age'])"
   ]
  },
  {
   "cell_type": "code",
   "execution_count": 21,
   "id": "b971007f",
   "metadata": {},
   "outputs": [
    {
     "data": {
      "text/plain": [
       "0    52.0\n",
       "dtype: float64"
      ]
     },
     "execution_count": 21,
     "metadata": {},
     "output_type": "execute_result"
    }
   ],
   "source": [
    "titanic[titanic['Survived'] == 1]['Age'].mode()"
   ]
  },
  {
   "cell_type": "code",
   "execution_count": 22,
   "id": "3a91c652",
   "metadata": {},
   "outputs": [
    {
     "data": {
      "text/plain": [
       "0    23.0\n",
       "dtype: float64"
      ]
     },
     "execution_count": 22,
     "metadata": {},
     "output_type": "execute_result"
    }
   ],
   "source": [
    "titanic[titanic['Survived'] == 0]['Age'].mode()"
   ]
  },
  {
   "cell_type": "code",
   "execution_count": 23,
   "id": "de2c8d3b",
   "metadata": {},
   "outputs": [
    {
     "data": {
      "text/html": [
       "<div>\n",
       "<style scoped>\n",
       "    .dataframe tbody tr th:only-of-type {\n",
       "        vertical-align: middle;\n",
       "    }\n",
       "\n",
       "    .dataframe tbody tr th {\n",
       "        vertical-align: top;\n",
       "    }\n",
       "\n",
       "    .dataframe thead th {\n",
       "        text-align: right;\n",
       "    }\n",
       "</style>\n",
       "<table border=\"1\" class=\"dataframe\">\n",
       "  <thead>\n",
       "    <tr style=\"text-align: right;\">\n",
       "      <th></th>\n",
       "      <th>Age</th>\n",
       "      <th>Count</th>\n",
       "    </tr>\n",
       "  </thead>\n",
       "  <tbody>\n",
       "    <tr>\n",
       "      <th>0</th>\n",
       "      <td>52.0</td>\n",
       "      <td>937</td>\n",
       "    </tr>\n",
       "    <tr>\n",
       "      <th>1</th>\n",
       "      <td>54.0</td>\n",
       "      <td>869</td>\n",
       "    </tr>\n",
       "    <tr>\n",
       "      <th>2</th>\n",
       "      <td>55.0</td>\n",
       "      <td>864</td>\n",
       "    </tr>\n",
       "    <tr>\n",
       "      <th>3</th>\n",
       "      <td>51.0</td>\n",
       "      <td>861</td>\n",
       "    </tr>\n",
       "    <tr>\n",
       "      <th>4</th>\n",
       "      <td>53.0</td>\n",
       "      <td>856</td>\n",
       "    </tr>\n",
       "    <tr>\n",
       "      <th>5</th>\n",
       "      <td>57.0</td>\n",
       "      <td>848</td>\n",
       "    </tr>\n",
       "    <tr>\n",
       "      <th>6</th>\n",
       "      <td>56.0</td>\n",
       "      <td>847</td>\n",
       "    </tr>\n",
       "    <tr>\n",
       "      <th>7</th>\n",
       "      <td>26.0</td>\n",
       "      <td>827</td>\n",
       "    </tr>\n",
       "    <tr>\n",
       "      <th>8</th>\n",
       "      <td>48.0</td>\n",
       "      <td>826</td>\n",
       "    </tr>\n",
       "    <tr>\n",
       "      <th>9</th>\n",
       "      <td>47.0</td>\n",
       "      <td>822</td>\n",
       "    </tr>\n",
       "    <tr>\n",
       "      <th>10</th>\n",
       "      <td>58.0</td>\n",
       "      <td>816</td>\n",
       "    </tr>\n",
       "    <tr>\n",
       "      <th>11</th>\n",
       "      <td>50.0</td>\n",
       "      <td>811</td>\n",
       "    </tr>\n",
       "    <tr>\n",
       "      <th>12</th>\n",
       "      <td>49.0</td>\n",
       "      <td>790</td>\n",
       "    </tr>\n",
       "    <tr>\n",
       "      <th>13</th>\n",
       "      <td>27.0</td>\n",
       "      <td>789</td>\n",
       "    </tr>\n",
       "    <tr>\n",
       "      <th>14</th>\n",
       "      <td>46.0</td>\n",
       "      <td>780</td>\n",
       "    </tr>\n",
       "    <tr>\n",
       "      <th>15</th>\n",
       "      <td>28.0</td>\n",
       "      <td>770</td>\n",
       "    </tr>\n",
       "    <tr>\n",
       "      <th>16</th>\n",
       "      <td>25.0</td>\n",
       "      <td>757</td>\n",
       "    </tr>\n",
       "    <tr>\n",
       "      <th>17</th>\n",
       "      <td>24.0</td>\n",
       "      <td>751</td>\n",
       "    </tr>\n",
       "    <tr>\n",
       "      <th>18</th>\n",
       "      <td>59.0</td>\n",
       "      <td>749</td>\n",
       "    </tr>\n",
       "    <tr>\n",
       "      <th>19</th>\n",
       "      <td>60.0</td>\n",
       "      <td>738</td>\n",
       "    </tr>\n",
       "  </tbody>\n",
       "</table>\n",
       "</div>"
      ],
      "text/plain": [
       "     Age  Count\n",
       "0   52.0    937\n",
       "1   54.0    869\n",
       "2   55.0    864\n",
       "3   51.0    861\n",
       "4   53.0    856\n",
       "5   57.0    848\n",
       "6   56.0    847\n",
       "7   26.0    827\n",
       "8   48.0    826\n",
       "9   47.0    822\n",
       "10  58.0    816\n",
       "11  50.0    811\n",
       "12  49.0    790\n",
       "13  27.0    789\n",
       "14  46.0    780\n",
       "15  28.0    770\n",
       "16  25.0    757\n",
       "17  24.0    751\n",
       "18  59.0    749\n",
       "19  60.0    738"
      ]
     },
     "execution_count": 23,
     "metadata": {},
     "output_type": "execute_result"
    }
   ],
   "source": [
    "titanic[titanic['Survived'] == 1]['Age'].value_counts().reset_index().rename(columns={'index' : 'Age', 'Age' : 'Count'}).head(20)"
   ]
  },
  {
   "cell_type": "code",
   "execution_count": 24,
   "id": "d4e67622",
   "metadata": {},
   "outputs": [
    {
     "name": "stderr",
     "output_type": "stream",
     "text": [
      "C:\\ProgramData\\Anaconda3\\lib\\site-packages\\seaborn\\distributions.py:2619: FutureWarning: `distplot` is a deprecated function and will be removed in a future version. Please adapt your code to use either `displot` (a figure-level function with similar flexibility) or `histplot` (an axes-level function for histograms).\n",
      "  warnings.warn(msg, FutureWarning)\n"
     ]
    },
    {
     "data": {
      "text/plain": [
       "<AxesSubplot:xlabel='SibSp', ylabel='Density'>"
      ]
     },
     "execution_count": 24,
     "metadata": {},
     "output_type": "execute_result"
    },
    {
     "data": {
      "image/png": "[encoded data removed]",
      "text/plain": [
       "<Figure size 432x288 with 1 Axes>"
      ]
     },
     "metadata": {
      "needs_background": "light"
     },
     "output_type": "display_data"
    }
   ],
   "source": [
    "sns.distplot(titanic[titanic['Survived'] == 1]['SibSp'])"
   ]
  },
  {
   "cell_type": "code",
   "execution_count": 25,
   "id": "8a1cc8a7",
   "metadata": {},
   "outputs": [
    {
     "data": {
      "text/plain": [
       "<AxesSubplot:xlabel='Age', ylabel='Fare'>"
      ]
     },
     "execution_count": 25,
     "metadata": {},
     "output_type": "execute_result"
    },
    {
     "data": {
      "image/png": "[encoded data removed]",
      "text/plain": [
       "<Figure size 432x288 with 1 Axes>"
      ]
     },
     "metadata": {
      "needs_background": "light"
     },
     "output_type": "display_data"
    }
   ],
   "source": [
    "sns.scatterplot(data=titanic, x='Age', y='Fare')"
   ]
  },
  {
   "cell_type": "code",
   "execution_count": 26,
   "id": "d67b6cec",
   "metadata": {
    "scrolled": true
   },
   "outputs": [
    {
     "data": {
      "text/plain": [
       "<AxesSubplot:xlabel='Embarked', ylabel='Fare'>"
      ]
     },
     "execution_count": 26,
     "metadata": {},
     "output_type": "execute_result"
    },
    {
     "data": {
      "image/png": "[encoded data removed]",
      "text/plain": [
       "<Figure size 432x288 with 1 Axes>"
      ]
     },
     "metadata": {
      "needs_background": "light"
     },
     "output_type": "display_data"
    }
   ],
   "source": [
    "sns.barplot(x='Embarked', y='Fare', data=titanic)\n",
    "#пассажиры из Саутгемптона в среднем брали более дешевые билеты, чем пассажиры из Шербура и Квинстауна"
   ]
  },
  {
   "cell_type": "code",
   "execution_count": 27,
   "id": "b2e3fcaf",
   "metadata": {},
   "outputs": [
    {
     "data": {
      "text/plain": [
       "<AxesSubplot:xlabel='SibSp', ylabel='Survived'>"
      ]
     },
     "execution_count": 27,
     "metadata": {},
     "output_type": "execute_result"
    },
    {
     "data": {
      "image/png": "[encoded data removed]",
      "text/plain": [
       "<Figure size 432x288 with 1 Axes>"
      ]
     },
     "metadata": {
      "needs_background": "light"
     },
     "output_type": "display_data"
    }
   ],
   "source": [
    "sns.barplot(x='SibSp', y='Survived', data=titanic, hue='Sex')"
   ]
  },
  {
   "cell_type": "code",
   "execution_count": 28,
   "id": "42769b0e",
   "metadata": {},
   "outputs": [
    {
     "data": {
      "text/plain": [
       "array([2, 0, 1, 3, 4, 8, 5], dtype=int64)"
      ]
     },
     "execution_count": 28,
     "metadata": {},
     "output_type": "execute_result"
    }
   ],
   "source": [
    "titanic['SibSp'].unique()"
   ]
  },
  {
   "cell_type": "code",
   "execution_count": 29,
   "id": "a4d43e16",
   "metadata": {},
   "outputs": [
    {
     "data": {
      "text/plain": [
       "<AxesSubplot:xlabel='Parch', ylabel='Survived'>"
      ]
     },
     "execution_count": 29,
     "metadata": {},
     "output_type": "execute_result"
    },
    {
     "data": {
      "image/png": "[encoded data removed]",
      "text/plain": [
       "<Figure size 432x288 with 1 Axes>"
      ]
     },
     "metadata": {
      "needs_background": "light"
     },
     "output_type": "display_data"
    }
   ],
   "source": [
    "sns.barplot(x='Parch', y='Survived', data=titanic, hue='Sex')"
   ]
  },
  {
   "cell_type": "code",
   "execution_count": 30,
   "id": "af5e7021",
   "metadata": {},
   "outputs": [
    {
     "data": {
      "text/plain": [
       "<AxesSubplot:xlabel='Embarked', ylabel='Survived'>"
      ]
     },
     "execution_count": 30,
     "metadata": {},
     "output_type": "execute_result"
    },
    {
     "data": {
      "image/png": "[encoded data removed]",
      "text/plain": [
       "<Figure size 432x288 with 1 Axes>"
      ]
     },
     "metadata": {
      "needs_background": "light"
     },
     "output_type": "display_data"
    }
   ],
   "source": [
    "sns.barplot(x='Embarked', y='Survived', data=titanic, hue='Sex')\n",
    "#наименьшая вероятность выживания у мужчин из Саутгемптона"
   ]
  },
  {
   "cell_type": "code",
   "execution_count": 51,
   "id": "3de7670a",
   "metadata": {},
   "outputs": [
    {
     "data": {
      "text/plain": [
       "26992"
      ]
     },
     "execution_count": 51,
     "metadata": {},
     "output_type": "execute_result"
    }
   ],
   "source": [
    "passengers_with_cabin = titanic[titanic['Cabin'].notnull()]\n",
    "passengers_with_cabin['Cabin'].nunique()"
   ]
  },
  {
   "cell_type": "code",
   "execution_count": 69,
   "id": "ae1c3563",
   "metadata": {
    "scrolled": true
   },
   "outputs": [
    {
     "data": {
      "text/plain": [
       "1    15318\n",
       "0     9666\n",
       "2     1806\n",
       "3      184\n",
       "4       15\n",
       "5        3\n",
       "Name: Survived, dtype: int64"
      ]
     },
     "execution_count": 69,
     "metadata": {},
     "output_type": "execute_result"
    }
   ],
   "source": [
    "passengers_with_cabin.groupby('Cabin', as_index=False)['Survived'].sum()['Survived'].value_counts()"
   ]
  },
  {
   "cell_type": "code",
   "execution_count": 48,
   "id": "e11f2b28",
   "metadata": {
    "scrolled": true
   },
   "outputs": [
    {
     "data": {
      "text/plain": [
       "67866"
      ]
     },
     "execution_count": 48,
     "metadata": {},
     "output_type": "execute_result"
    }
   ],
   "source": [
    "passengers_without_cabin = titanic[titanic['Cabin'].isnull()]\n",
    "passengers_without_cabin['PassengerId'].nunique()"
   ]
  },
  {
   "cell_type": "code",
   "execution_count": 46,
   "id": "92df7fc7",
   "metadata": {
    "scrolled": true
   },
   "outputs": [
    {
     "data": {
      "text/html": [
       "<div>\n",
       "<style scoped>\n",
       "    .dataframe tbody tr th:only-of-type {\n",
       "        vertical-align: middle;\n",
       "    }\n",
       "\n",
       "    .dataframe tbody tr th {\n",
       "        vertical-align: top;\n",
       "    }\n",
       "\n",
       "    .dataframe thead th {\n",
       "        text-align: right;\n",
       "    }\n",
       "</style>\n",
       "<table border=\"1\" class=\"dataframe\">\n",
       "  <thead>\n",
       "    <tr style=\"text-align: right;\">\n",
       "      <th></th>\n",
       "      <th>PassengerId</th>\n",
       "      <th>Pclass</th>\n",
       "      <th>Name</th>\n",
       "      <th>Sex</th>\n",
       "      <th>Age</th>\n",
       "      <th>SibSp</th>\n",
       "      <th>Parch</th>\n",
       "      <th>Ticket</th>\n",
       "      <th>Fare</th>\n",
       "      <th>Cabin</th>\n",
       "      <th>Embarked</th>\n",
       "    </tr>\n",
       "    <tr>\n",
       "      <th>Survived</th>\n",
       "      <th></th>\n",
       "      <th></th>\n",
       "      <th></th>\n",
       "      <th></th>\n",
       "      <th></th>\n",
       "      <th></th>\n",
       "      <th></th>\n",
       "      <th></th>\n",
       "      <th></th>\n",
       "      <th></th>\n",
       "      <th></th>\n",
       "    </tr>\n",
       "  </thead>\n",
       "  <tbody>\n",
       "    <tr>\n",
       "      <th>0</th>\n",
       "      <td>44649</td>\n",
       "      <td>44649</td>\n",
       "      <td>44649</td>\n",
       "      <td>44649</td>\n",
       "      <td>43138</td>\n",
       "      <td>44649</td>\n",
       "      <td>44649</td>\n",
       "      <td>42453</td>\n",
       "      <td>44593</td>\n",
       "      <td>0</td>\n",
       "      <td>44551</td>\n",
       "    </tr>\n",
       "    <tr>\n",
       "      <th>1</th>\n",
       "      <td>23217</td>\n",
       "      <td>23217</td>\n",
       "      <td>23217</td>\n",
       "      <td>23217</td>\n",
       "      <td>22481</td>\n",
       "      <td>23217</td>\n",
       "      <td>23217</td>\n",
       "      <td>20873</td>\n",
       "      <td>23181</td>\n",
       "      <td>0</td>\n",
       "      <td>23153</td>\n",
       "    </tr>\n",
       "  </tbody>\n",
       "</table>\n",
       "</div>"
      ],
      "text/plain": [
       "          PassengerId  Pclass   Name    Sex    Age  SibSp  Parch  Ticket  \\\n",
       "Survived                                                                   \n",
       "0               44649   44649  44649  44649  43138  44649  44649   42453   \n",
       "1               23217   23217  23217  23217  22481  23217  23217   20873   \n",
       "\n",
       "           Fare  Cabin  Embarked  \n",
       "Survived                          \n",
       "0         44593      0     44551  \n",
       "1         23181      0     23153  "
      ]
     },
     "execution_count": 46,
     "metadata": {},
     "output_type": "execute_result"
    }
   ],
   "source": [
    "passengers_without_cabin.groupby('Survived').count()"
   ]
  },
  {
   "cell_type": "code",
   "execution_count": 82,
   "id": "05edff8d",
   "metadata": {
    "scrolled": true
   },
   "outputs": [
    {
     "data": {
      "text/html": [
       "<div>\n",
       "<style scoped>\n",
       "    .dataframe tbody tr th:only-of-type {\n",
       "        vertical-align: middle;\n",
       "    }\n",
       "\n",
       "    .dataframe tbody tr th {\n",
       "        vertical-align: top;\n",
       "    }\n",
       "\n",
       "    .dataframe thead th {\n",
       "        text-align: right;\n",
       "    }\n",
       "</style>\n",
       "<table border=\"1\" class=\"dataframe\">\n",
       "  <thead>\n",
       "    <tr style=\"text-align: right;\">\n",
       "      <th></th>\n",
       "      <th></th>\n",
       "      <th>PassengerId</th>\n",
       "      <th>Survived</th>\n",
       "      <th>Pclass</th>\n",
       "      <th>Name</th>\n",
       "      <th>Age</th>\n",
       "      <th>SibSp</th>\n",
       "      <th>Parch</th>\n",
       "      <th>Ticket</th>\n",
       "      <th>Fare</th>\n",
       "      <th>Cabin</th>\n",
       "    </tr>\n",
       "    <tr>\n",
       "      <th>Embarked</th>\n",
       "      <th>Sex</th>\n",
       "      <th></th>\n",
       "      <th></th>\n",
       "      <th></th>\n",
       "      <th></th>\n",
       "      <th></th>\n",
       "      <th></th>\n",
       "      <th></th>\n",
       "      <th></th>\n",
       "      <th></th>\n",
       "      <th></th>\n",
       "    </tr>\n",
       "  </thead>\n",
       "  <tbody>\n",
       "    <tr>\n",
       "      <th rowspan=\"2\" valign=\"top\">C</th>\n",
       "      <th>female</th>\n",
       "      <td>15786</td>\n",
       "      <td>15786</td>\n",
       "      <td>15786</td>\n",
       "      <td>15786</td>\n",
       "      <td>15295</td>\n",
       "      <td>15786</td>\n",
       "      <td>15786</td>\n",
       "      <td>15598</td>\n",
       "      <td>15763</td>\n",
       "      <td>9007</td>\n",
       "    </tr>\n",
       "    <tr>\n",
       "      <th>male</th>\n",
       "      <td>6401</td>\n",
       "      <td>6401</td>\n",
       "      <td>6401</td>\n",
       "      <td>6401</td>\n",
       "      <td>6161</td>\n",
       "      <td>6401</td>\n",
       "      <td>6401</td>\n",
       "      <td>6351</td>\n",
       "      <td>6391</td>\n",
       "      <td>3972</td>\n",
       "    </tr>\n",
       "    <tr>\n",
       "      <th rowspan=\"2\" valign=\"top\">Q</th>\n",
       "      <th>female</th>\n",
       "      <td>3852</td>\n",
       "      <td>3852</td>\n",
       "      <td>3852</td>\n",
       "      <td>3852</td>\n",
       "      <td>3721</td>\n",
       "      <td>3852</td>\n",
       "      <td>3852</td>\n",
       "      <td>3812</td>\n",
       "      <td>3845</td>\n",
       "      <td>3052</td>\n",
       "    </tr>\n",
       "    <tr>\n",
       "      <th>male</th>\n",
       "      <td>1572</td>\n",
       "      <td>1572</td>\n",
       "      <td>1572</td>\n",
       "      <td>1572</td>\n",
       "      <td>1516</td>\n",
       "      <td>1572</td>\n",
       "      <td>1572</td>\n",
       "      <td>1557</td>\n",
       "      <td>1571</td>\n",
       "      <td>970</td>\n",
       "    </tr>\n",
       "    <tr>\n",
       "      <th rowspan=\"2\" valign=\"top\">S</th>\n",
       "      <th>female</th>\n",
       "      <td>24117</td>\n",
       "      <td>24117</td>\n",
       "      <td>24117</td>\n",
       "      <td>24117</td>\n",
       "      <td>23355</td>\n",
       "      <td>24117</td>\n",
       "      <td>24117</td>\n",
       "      <td>21713</td>\n",
       "      <td>24089</td>\n",
       "      <td>6038</td>\n",
       "    </tr>\n",
       "    <tr>\n",
       "      <th>male</th>\n",
       "      <td>48022</td>\n",
       "      <td>48022</td>\n",
       "      <td>48022</td>\n",
       "      <td>48022</td>\n",
       "      <td>46412</td>\n",
       "      <td>48022</td>\n",
       "      <td>48022</td>\n",
       "      <td>46105</td>\n",
       "      <td>47958</td>\n",
       "      <td>9007</td>\n",
       "    </tr>\n",
       "  </tbody>\n",
       "</table>\n",
       "</div>"
      ],
      "text/plain": [
       "                 PassengerId  Survived  Pclass   Name    Age  SibSp  Parch  \\\n",
       "Embarked Sex                                                                 \n",
       "C        female        15786     15786   15786  15786  15295  15786  15786   \n",
       "         male           6401      6401    6401   6401   6161   6401   6401   \n",
       "Q        female         3852      3852    3852   3852   3721   3852   3852   \n",
       "         male           1572      1572    1572   1572   1516   1572   1572   \n",
       "S        female        24117     24117   24117  24117  23355  24117  24117   \n",
       "         male          48022     48022   48022  48022  46412  48022  48022   \n",
       "\n",
       "                 Ticket   Fare  Cabin  \n",
       "Embarked Sex                           \n",
       "C        female   15598  15763   9007  \n",
       "         male      6351   6391   3972  \n",
       "Q        female    3812   3845   3052  \n",
       "         male      1557   1571    970  \n",
       "S        female   21713  24089   6038  \n",
       "         male     46105  47958   9007  "
      ]
     },
     "execution_count": 82,
     "metadata": {},
     "output_type": "execute_result"
    }
   ],
   "source": [
    "titanic.groupby(['Embarked', 'Sex']).count()\n",
    "#наибольшее кол-во пассажиров садилось в Саутгемптоне, причем мужчин в 2 раза больше, чем женщин, следовательно можем сделать\\\n",
    "#вывод, что именно из-за этого наименьшая вероятность выживания у мужчин из Саутгемптона, а не из-за места посадки"
   ]
  },
  {
   "cell_type": "code",
   "execution_count": 85,
   "id": "1776cfda",
   "metadata": {},
   "outputs": [
    {
     "data": {
      "text/html": [
       "<div>\n",
       "<style scoped>\n",
       "    .dataframe tbody tr th:only-of-type {\n",
       "        vertical-align: middle;\n",
       "    }\n",
       "\n",
       "    .dataframe tbody tr th {\n",
       "        vertical-align: top;\n",
       "    }\n",
       "\n",
       "    .dataframe thead th {\n",
       "        text-align: right;\n",
       "    }\n",
       "</style>\n",
       "<table border=\"1\" class=\"dataframe\">\n",
       "  <thead>\n",
       "    <tr style=\"text-align: right;\">\n",
       "      <th></th>\n",
       "      <th>PassengerId</th>\n",
       "      <th>Survived</th>\n",
       "      <th>Pclass</th>\n",
       "      <th>Age</th>\n",
       "      <th>SibSp</th>\n",
       "      <th>Parch</th>\n",
       "      <th>Fare</th>\n",
       "    </tr>\n",
       "    <tr>\n",
       "      <th>Cabin</th>\n",
       "      <th></th>\n",
       "      <th></th>\n",
       "      <th></th>\n",
       "      <th></th>\n",
       "      <th></th>\n",
       "      <th></th>\n",
       "      <th></th>\n",
       "    </tr>\n",
       "  </thead>\n",
       "  <tbody>\n",
       "    <tr>\n",
       "      <th>False</th>\n",
       "      <td>49956.952627</td>\n",
       "      <td>0.342101</td>\n",
       "      <td>2.515766</td>\n",
       "      <td>35.408465</td>\n",
       "      <td>0.357955</td>\n",
       "      <td>0.404812</td>\n",
       "      <td>21.690953</td>\n",
       "    </tr>\n",
       "    <tr>\n",
       "      <th>True</th>\n",
       "      <td>50089.358717</td>\n",
       "      <td>0.608608</td>\n",
       "      <td>1.243418</td>\n",
       "      <td>44.575668</td>\n",
       "      <td>0.481608</td>\n",
       "      <td>0.559625</td>\n",
       "      <td>90.893801</td>\n",
       "    </tr>\n",
       "  </tbody>\n",
       "</table>\n",
       "</div>"
      ],
      "text/plain": [
       "        PassengerId  Survived    Pclass        Age     SibSp     Parch  \\\n",
       "Cabin                                                                    \n",
       "False  49956.952627  0.342101  2.515766  35.408465  0.357955  0.404812   \n",
       "True   50089.358717  0.608608  1.243418  44.575668  0.481608  0.559625   \n",
       "\n",
       "            Fare  \n",
       "Cabin             \n",
       "False  21.690953  \n",
       "True   90.893801  "
      ]
     },
     "execution_count": 85,
     "metadata": {},
     "output_type": "execute_result"
    }
   ],
   "source": [
    "titanic.groupby(titanic['Cabin'].notnull()).mean()\n",
    "#в среднем у пассажиров без указанной каюты шанс на выживание меньше, чем у пассажиров с указанной. Так же пассажиры\\\n",
    "#\"без каюты\" моложе, путешествуют более низким классом и за билеты заплатили меньше. Из этого опять же можно сделать вывод,\\\n",
    "#что выше шанс на выживание у богатых людей, которые путешествуют классом выше\n"
   ]
  },
  {
   "cell_type": "markdown",
   "id": "034945c8",
   "metadata": {},
   "source": [
    "# Summary"
   ]
  },
  {
   "cell_type": "code",
   "execution_count": null,
   "id": "3f0f8f21",
   "metadata": {},
   "outputs": [],
   "source": [
    "\"\"\"\n",
    "Наибольшее кол-во пропущеных данных в колонке каюты, тк либо человек путешствовал\n",
    "без каюты, либо банальные пропуски данных;\n",
    "\n",
    "Так же 3% данных пропущено в колоке возраста и 5% в колонке билета;\n",
    "\n",
    "В среднем пассажиры с указанным возрастом и без него имеют примерно одинаковые \n",
    "характеристики, поэтому данные пропуски нельзя считать сущесвенным недостатком данных;\n",
    "\n",
    "Наибольшее кол-во выживших составляют женщины. Вероятность того, что выживет женщина - примерно 71%, мужчина - примерно 20.5%;\n",
    "\n",
    "Наибольшее число погибших было в возрасте от 22 до 26 лет; распределение выживших я бы назвал бимодальным, тк большинство\n",
    "выживших в пределах 24-27 лет и 46-60 лет;\n",
    "\n",
    "Наблюдается небольшая корреляция в размере 0.21 между колонками родители/дети и родственники/супруги,\n",
    "следовательно можно предположить, что некоторые люди путешествовали семьями;\n",
    "\n",
    "Наибольшее кол-во пассажиров село на пароход в Саутгемптоне, причем мужчин в 2 раза больше, чем женщин,\n",
    "следовательно можем сделать вывод, что именно из-за этого наименьшая вероятность выживания у мужчин из Саутгемптона,\n",
    "а не из-за места посадки;\n",
    "\n",
    "В среднем стоимость билета выживших пассажиров выше, чем у погибших, а так же у выживших выше класс пассажира;\n",
    "\n",
    "Вероятность того, что выживет пассажир первого класса - примерно 58%, второго класса - примерно 52.5%, третьего - 24.7%;\n",
    "\n",
    "Пассажиры из Саутгемптона в среднем брали более дешевые билеты, чем пассажиры из Шербура и Квинстауна, следовательно\n",
    "это так же повлияло на процент выживших из этого города, тк процент выживаемости больше у богатых;\n",
    "\n",
    "Было предположение, что много пропусков в колонке кают из-за того, что, возможно, номер каюты уточнялся уже после крушения у\n",
    "выживших пассажиров, но это предположение не подтвердилось, тк и у некоторых погибших пассажиров были известны номера их кают;\n",
    "\n",
    "В среднем у пассажиров без указанной каюты шанс на выживание меньше, чем у пассажиров с указанной. Так же пассажиры\n",
    "\"без каюты\" моложе, путешествуют более низким классом и за билеты заплатили меньше. Из этого опять же можно сделать вывод,\n",
    "что выше шанс на выживание у богатых людей, которые путешествуют классом выше.\n",
    "\"\"\""
   ]
  }
 ],
 "metadata": {
  "kernelspec": {
   "display_name": "Python 3 (ipykernel)",
   "language": "python",
   "name": "python3"
  },
  "language_info": {
   "codemirror_mode": {
    "name": "ipython",
    "version": 3
   },
   "file_extension": ".py",
   "mimetype": "text/x-python",
   "name": "python",
   "nbconvert_exporter": "python",
   "pygments_lexer": "ipython3",
   "version": "3.9.7"
  },
  "toc": {
   "base_numbering": 1,
   "nav_menu": {},
   "number_sections": true,
   "sideBar": true,
   "skip_h1_title": false,
   "title_cell": "Table of Contents",
   "title_sidebar": "Contents",
   "toc_cell": false,
   "toc_position": {},
   "toc_section_display": true,
   "toc_window_display": false
  }
 },
 "nbformat": 4,
 "nbformat_minor": 5
}