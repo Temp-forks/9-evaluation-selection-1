{
 "cells": [
  {
   "cell_type": "markdown",
   "id": "6d6010da",
   "metadata": {},
   "source": [
    "# How to complete this assignment\n",
    "First, download [this Kaggle dataset](https://www.kaggle.com/hugomathien/soccer) and extract *sqlite* database. You may need to register at https://www.kaggle.com/ beforehand. Then complete 15 graded tasks below, the score is given in brackets. Finally submit the resulting `.ipynb` file to rs-app Auto-test.\n",
    "\n",
    "- Do not delete or rename the variables given before the inscription `#your code here`, they are needed for the correct verification.\n",
    "- Do not change the code in the last Notebook cell, it is required for the server check.\n",
    "- Your Notebook must run completely without errors to be graded! Please check everything before submission by going *Cell -> Run All*"
   ]
  },
  {
   "cell_type": "markdown",
   "id": "0dbd5f9a",
   "metadata": {},
   "source": [
    "## Some important notes\n",
    "- If you need to **calculate the number of \"something\"** that means we expect you to assign an Integer to the given variable\n",
    "- If you need to **make a list of \"something\"** we expect you to assign a Python list with appropriate values to the given variable\n",
    "- If you need to find a **specifiс player, day of the week, team, etc.** we expect you to assign a String with the full name of the entity to the given variable (`player_name`, day of week full name, `team_name`, etc.)"
   ]
  },
  {
   "cell_type": "code",
   "execution_count": 1,
   "id": "f52b1bac",
   "metadata": {},
   "outputs": [],
   "source": [
    "import sqlite3\n",
    "import pandas as pd\n",
    "import numpy as np\n",
    "import os\n",
    "import math\n",
    "\n",
    "pd.set_option('display.max_column', None)"
   ]
  },
  {
   "cell_type": "code",
   "execution_count": 2,
   "id": "8ebe6afd",
   "metadata": {},
   "outputs": [],
   "source": [
    "# Leave that code unchanged, it is required for the server check!\n",
    "db = sqlite3.connect(os.environ.get(\"DB_PATH\") or 'database.sqlite')"
   ]
  },
  {
   "cell_type": "code",
   "execution_count": 3,
   "id": "9860d0d0",
   "metadata": {},
   "outputs": [],
   "source": [
    "# You may load the data from SQL table directly to the Pandas dataframe as\n",
    "player_data = pd.read_sql(\"SELECT * FROM Player;\", db)"
   ]
  },
  {
   "cell_type": "code",
   "id": "7e69a7af",
   "metadata": {
    "pycharm": {
     "name": "#%%\n"
    }
   },
   "source": [
    "player_data.head()"
   ],
   "execution_count": null,
   "outputs": []
  },
  {
   "cell_type": "markdown",
   "id": "f8b23f3a",
   "metadata": {},
   "source": [
    "**Task 1 (0.25 point).** Calculate the number of players with a height between 180 and 190 inclusive"
   ]
  },
  {
   "cell_type": "code",
   "execution_count": 6,
   "id": "7cd6f780",
   "metadata": {},
   "outputs": [],
   "source": [
    "players_180_190 = player_data[(player_data['height'] >= 180) & (player_data['height'] <= 190)].shape[0]"
   ]
  },
  {
   "cell_type": "code",
   "execution_count": 7,
   "id": "9d058065",
   "metadata": {},
   "outputs": [],
   "source": [
    "assert(isinstance(players_180_190, int))"
   ]
  },
  {
   "cell_type": "markdown",
   "id": "5a39f3bc",
   "metadata": {},
   "source": [
    "**Task 2 (0.25 point).** Calculate the number of players born in 1980. <br>\n",
    "**Hint:** you may want to cast your 'birthday' column to DateTime type by [pandas.to_datetime](https://pandas.pydata.org/docs/reference/api/pandas.to_datetime.html)"
   ]
  },
  {
   "cell_type": "code",
   "execution_count": 9,
   "id": "ff21f7a2",
   "metadata": {},
   "outputs": [],
   "source": [
    "player_data[\"birthday\"] = pd.to_datetime(player_data[\"birthday\"])\n",
    "players_1980 = player_data.loc[player_data['birthday'].dt.year == 1980].shape[0]"
   ]
  },
  {
   "cell_type": "code",
   "execution_count": 10,
   "id": "e53cc066",
   "metadata": {},
   "outputs": [],
   "source": [
    "assert(isinstance(players_1980, int))"
   ]
  },
  {
   "cell_type": "markdown",
   "id": "70d1dea0",
   "metadata": {},
   "source": [
    "**Task 3 (0.25 point).** Make a list of the top 10 players with the highest weight sorted in descending order. If there are several players with the same weight put them in the lexicographic order by name."
   ]
  },
  {
   "cell_type": "code",
   "execution_count": 11,
   "id": "b0dbdaf5",
   "metadata": {},
   "outputs": [],
   "source": [
    "players_sorted = player_data.sort_values(by=[\"weight\", \"player_name\"], ascending = [False, True])\n",
    "highest_players = players_sorted.iloc[0:10]['player_name'].tolist()"
   ]
  },
  {
   "cell_type": "code",
   "execution_count": 12,
   "id": "40dabe0d",
   "metadata": {},
   "outputs": [],
   "source": [
    "assert(len(highest_players) == 10)\n",
    "assert(isinstance(highest_players, list))\n",
    "for i in range(10):\n",
    "    assert(isinstance(highest_players[i], str))"
   ]
  },
  {
   "cell_type": "markdown",
   "id": "ff30607f",
   "metadata": {},
   "source": [
    "**Task 4 (0.5 point).** Make a list of tuples containing years along with the number of players born in that year from 1980 up to 1990. <br>\n",
    "**Structure example**: [(1980, 123), (1981, 140) ..., (1990, 83)] -> There were born 123 players in 1980, there were born 140 players in 1981 and etc."
   ]
  },
  {
   "cell_type": "code",
   "execution_count": 14,
   "outputs": [],
   "source": [
    "years_born_players = []\n",
    "for i in range(1980, 1991):\n",
    "    years_born_players.append((i, player_data.loc[player_data['birthday'].dt.year == i].shape[0]))"
   ],
   "metadata": {
    "collapsed": false,
    "pycharm": {
     "name": "#%%\n"
    }
   }
  },
  {
   "cell_type": "code",
   "execution_count": 118,
   "id": "64cbf754",
   "metadata": {},
   "outputs": [],
   "source": [
    "assert(len(years_born_players) == 11)\n",
    "assert(isinstance(years_born_players, list))\n",
    "for i in range(10):\n",
    "    assert(isinstance(years_born_players[i], tuple))\n",
    "    assert(isinstance(years_born_players[i][0], int))\n",
    "    assert(isinstance(years_born_players[i][1], int))"
   ]
  },
  {
   "cell_type": "markdown",
   "id": "33cbd931",
   "metadata": {},
   "source": [
    "**Task 5 (0.5 point).** Calculate the mean and the standard deviation of the players' **height** with the name **Adriano**. <br>\n",
    "**Note:** Name is represented by the first part of `player_name`."
   ]
  },
  {
   "cell_type": "code",
   "execution_count": 119,
   "id": "614fac31",
   "metadata": {},
   "outputs": [],
   "source": [
    "player_data['name'] = player_data['player_name'].str[0:7]\n",
    "players_adriano = player_data.loc[player_data['name'] == 'Adriano']\n",
    "adriano_mean, adriano_std = players_adriano['height'].mean(), players_adriano['height'].std()"
   ]
  },
  {
   "cell_type": "code",
   "execution_count": 120,
   "id": "f508c49f",
   "metadata": {},
   "outputs": [],
   "source": [
    "assert(isinstance(adriano_mean, float))\n",
    "assert(isinstance(adriano_std, float))"
   ]
  },
  {
   "cell_type": "markdown",
   "id": "8a361dfd",
   "metadata": {},
   "source": [
    "**Task 6 (0.75 point).** How many players were born on each day of the week? Find the day of the week with the minimum number of players born."
   ]
  },
  {
   "cell_type": "code",
   "execution_count": 20,
   "id": "c140be4f",
   "metadata": {},
   "outputs": [],
   "source": [
    "player_data['weekday'] = player_data['birthday'].dt.weekday\n",
    "player_weekday = player_data['weekday'].value_counts().reset_index()\n",
    "days = (\"Monday\",\"Tuesday\",\"Wednesday\",\"Thursday\",\"Friday\",\"Saturday\",\"Sunday\")\n",
    "day = player_weekday[player_weekday['weekday'] == player_weekday['weekday'].min()]\n",
    "dow_with_min_players_born = days[day.index[0]]"
   ]
  },
  {
   "cell_type": "code",
   "execution_count": 21,
   "id": "fc041623",
   "metadata": {},
   "outputs": [],
   "source": [
    "assert(isinstance(dow_with_min_players_born, str))"
   ]
  },
  {
   "cell_type": "markdown",
   "id": "dc7428be",
   "metadata": {},
   "source": [
    "**Task 7 (0.75 point).** Find a league with the most matches in total. If there are several leagues with the same amount of matches, take the first in the lexical order."
   ]
  },
  {
   "cell_type": "code",
   "execution_count": 31,
   "id": "ff3113ac",
   "metadata": {},
   "outputs": [
    {
     "data": {
      "text/plain": "          id  country_id  league_id     season  stage                 date  \\\n0          1           1          1  2008/2009      1  2008-08-17 00:00:00   \n1          2           1          1  2008/2009      1  2008-08-16 00:00:00   \n2          3           1          1  2008/2009      1  2008-08-16 00:00:00   \n3          4           1          1  2008/2009      1  2008-08-17 00:00:00   \n4          5           1          1  2008/2009      1  2008-08-16 00:00:00   \n...      ...         ...        ...        ...    ...                  ...   \n25974  25975       24558      24558  2015/2016      9  2015-09-22 00:00:00   \n25975  25976       24558      24558  2015/2016      9  2015-09-23 00:00:00   \n25976  25977       24558      24558  2015/2016      9  2015-09-23 00:00:00   \n25977  25978       24558      24558  2015/2016      9  2015-09-22 00:00:00   \n25978  25979       24558      24558  2015/2016      9  2015-09-23 00:00:00   \n\n       match_api_id  home_team_api_id  away_team_api_id  home_team_goal  \\\n0            492473              9987              9993               1   \n1            492474             10000              9994               0   \n2            492475              9984              8635               0   \n3            492476              9991              9998               5   \n4            492477              7947              9985               1   \n...             ...               ...               ...             ...   \n25974       1992091             10190             10191               1   \n25975       1992092              9824             10199               1   \n25976       1992093              9956             10179               2   \n25977       1992094              7896             10243               0   \n25978       1992095             10192              9931               4   \n\n       away_team_goal  home_player_X1  home_player_X2  home_player_X3  \\\n0                   1             NaN             NaN             NaN   \n1                   0             NaN             NaN             NaN   \n2                   3             NaN             NaN             NaN   \n3                   0             NaN             NaN             NaN   \n4                   3             NaN             NaN             NaN   \n...               ...             ...             ...             ...   \n25974               0             1.0             2.0             4.0   \n25975               2             1.0             3.0             5.0   \n25976               0             1.0             2.0             4.0   \n25977               0             1.0             2.0             4.0   \n25978               3             1.0             2.0             4.0   \n\n       home_player_X4  home_player_X5  home_player_X6  home_player_X7  \\\n0                 NaN             NaN             NaN             NaN   \n1                 NaN             NaN             NaN             NaN   \n2                 NaN             NaN             NaN             NaN   \n3                 NaN             NaN             NaN             NaN   \n4                 NaN             NaN             NaN             NaN   \n...               ...             ...             ...             ...   \n25974             6.0             8.0             4.0             6.0   \n25975             7.0             2.0             4.0             6.0   \n25976             6.0             8.0             4.0             6.0   \n25977             6.0             8.0             3.0             7.0   \n25978             6.0             8.0             2.0             4.0   \n\n       home_player_X8  home_player_X9  home_player_X10  home_player_X11  \\\n0                 NaN             NaN              NaN              NaN   \n1                 NaN             NaN              NaN              NaN   \n2                 NaN             NaN              NaN              NaN   \n3                 NaN             NaN              NaN              NaN   \n4                 NaN             NaN              NaN              NaN   \n...               ...             ...              ...              ...   \n25974             3.0             5.0              7.0              5.0   \n25975             8.0             5.0              4.0              6.0   \n25976             3.0             5.0              7.0              5.0   \n25977             5.0             3.0              5.0              7.0   \n25978             6.0             8.0              4.0              6.0   \n\n       away_player_X1  away_player_X2  away_player_X3  away_player_X4  \\\n0                 NaN             NaN             NaN             NaN   \n1                 NaN             NaN             NaN             NaN   \n2                 NaN             NaN             NaN             NaN   \n3                 NaN             NaN             NaN             NaN   \n4                 NaN             NaN             NaN             NaN   \n...               ...             ...             ...             ...   \n25974             1.0             2.0             4.0             6.0   \n25975             1.0             2.0             4.0             6.0   \n25976             1.0             2.0             4.0             6.0   \n25977             1.0             2.0             4.0             6.0   \n25978             1.0             2.0             4.0             6.0   \n\n       away_player_X5  away_player_X6  away_player_X7  away_player_X8  \\\n0                 NaN             NaN             NaN             NaN   \n1                 NaN             NaN             NaN             NaN   \n2                 NaN             NaN             NaN             NaN   \n3                 NaN             NaN             NaN             NaN   \n4                 NaN             NaN             NaN             NaN   \n...               ...             ...             ...             ...   \n25974             8.0             4.0             6.0             3.0   \n25975             8.0             3.0             5.0             7.0   \n25976             8.0             4.0             6.0             3.0   \n25977             8.0             4.0             6.0             3.0   \n25978             8.0             4.0             6.0             3.0   \n\n       away_player_X9  away_player_X10  away_player_X11  home_player_Y1  \\\n0                 NaN              NaN              NaN             NaN   \n1                 NaN              NaN              NaN             NaN   \n2                 NaN              NaN              NaN             NaN   \n3                 NaN              NaN              NaN             NaN   \n4                 NaN              NaN              NaN             NaN   \n...               ...              ...              ...             ...   \n25974             5.0              7.0              5.0             1.0   \n25975             3.0              5.0              7.0             1.0   \n25976             5.0              7.0              5.0             1.0   \n25977             5.0              7.0              5.0             1.0   \n25978             5.0              7.0              5.0             1.0   \n\n       home_player_Y2  home_player_Y3  home_player_Y4  home_player_Y5  \\\n0                 NaN             NaN             NaN             NaN   \n1                 NaN             NaN             NaN             NaN   \n2                 NaN             NaN             NaN             NaN   \n3                 NaN             NaN             NaN             NaN   \n4                 NaN             NaN             NaN             NaN   \n...               ...             ...             ...             ...   \n25974             3.0             3.0             3.0             3.0   \n25975             3.0             3.0             3.0             7.0   \n25976             3.0             3.0             3.0             3.0   \n25977             3.0             3.0             3.0             3.0   \n25978             3.0             3.0             3.0             3.0   \n\n       home_player_Y6  home_player_Y7  home_player_Y8  home_player_Y9  \\\n0                 NaN             NaN             NaN             NaN   \n1                 NaN             NaN             NaN             NaN   \n2                 NaN             NaN             NaN             NaN   \n3                 NaN             NaN             NaN             NaN   \n4                 NaN             NaN             NaN             NaN   \n...               ...             ...             ...             ...   \n25974             6.0             6.0             8.0             8.0   \n25975             7.0             7.0             7.0             9.0   \n25976             6.0             6.0             8.0             8.0   \n25977             7.0             7.0             7.0            10.0   \n25978             7.0             7.0             7.0             7.0   \n\n       home_player_Y10  home_player_Y11  away_player_Y1  away_player_Y2  \\\n0                  NaN              NaN             NaN             NaN   \n1                  NaN              NaN             NaN             NaN   \n2                  NaN              NaN             NaN             NaN   \n3                  NaN              NaN             NaN             NaN   \n4                  NaN              NaN             NaN             NaN   \n...                ...              ...             ...             ...   \n25974              8.0             11.0             1.0             3.0   \n25975             11.0             11.0             1.0             3.0   \n25976              8.0             11.0             1.0             3.0   \n25977             10.0             10.0             1.0             3.0   \n25978             10.0             10.0             1.0             3.0   \n\n       away_player_Y3  away_player_Y4  away_player_Y5  away_player_Y6  \\\n0                 NaN             NaN             NaN             NaN   \n1                 NaN             NaN             NaN             NaN   \n2                 NaN             NaN             NaN             NaN   \n3                 NaN             NaN             NaN             NaN   \n4                 NaN             NaN             NaN             NaN   \n...               ...             ...             ...             ...   \n25974             3.0             3.0             3.0             6.0   \n25975             3.0             3.0             3.0             7.0   \n25976             3.0             3.0             3.0             6.0   \n25977             3.0             3.0             3.0             6.0   \n25978             3.0             3.0             3.0             6.0   \n\n       away_player_Y7  away_player_Y8  away_player_Y9  away_player_Y10  \\\n0                 NaN             NaN             NaN              NaN   \n1                 NaN             NaN             NaN              NaN   \n2                 NaN             NaN             NaN              NaN   \n3                 NaN             NaN             NaN              NaN   \n4                 NaN             NaN             NaN              NaN   \n...               ...             ...             ...              ...   \n25974             6.0             8.0             8.0              8.0   \n25975             7.0             7.0            10.0             10.0   \n25976             6.0             8.0             8.0              8.0   \n25977             6.0             8.0             8.0              8.0   \n25978             6.0             8.0             8.0              8.0   \n\n       away_player_Y11  home_player_1  home_player_2  home_player_3  \\\n0                  NaN            NaN            NaN            NaN   \n1                  NaN            NaN            NaN            NaN   \n2                  NaN            NaN            NaN            NaN   \n3                  NaN            NaN            NaN            NaN   \n4                  NaN            NaN            NaN            NaN   \n...                ...            ...            ...            ...   \n25974             11.0        42231.0       678384.0        95220.0   \n25975             10.0        33272.0        41621.0        25813.0   \n25976             11.0       157856.0       274779.0       177689.0   \n25977             11.0            NaN         8881.0       173534.0   \n25978             11.0       274787.0       492132.0       108451.0   \n\n       home_player_4  home_player_5  home_player_6  home_player_7  \\\n0                NaN            NaN            NaN            NaN   \n1                NaN            NaN            NaN            NaN   \n2                NaN            NaN            NaN            NaN   \n3                NaN            NaN            NaN            NaN   \n4                NaN            NaN            NaN            NaN   \n...              ...            ...            ...            ...   \n25974       638592.0       413155.0        45780.0       171229.0   \n25975       257845.0       114735.0        42237.0       113227.0   \n25976       294256.0        42258.0        39979.0       173936.0   \n25977        39646.0       282287.0       340790.0       393337.0   \n25978        25815.0        94553.0       384376.0       598355.0   \n\n       home_player_8  home_player_9  home_player_10  home_player_11  \\\n0                NaN            NaN             NaN             NaN   \n1                NaN            NaN             NaN             NaN   \n2                NaN            NaN             NaN             NaN   \n3                NaN            NaN             NaN             NaN   \n4                NaN            NaN             NaN             NaN   \n...              ...            ...             ...             ...   \n25974        67333.0       119839.0        143790.0        195215.0   \n25975       358156.0        32343.0        531309.0         37257.0   \n25976       147959.0       451983.0         80564.0        289472.0   \n25977         8893.0       614454.0         93229.0        178142.0   \n25978        36785.0        45174.0        302079.0         71764.0   \n\n       away_player_1  away_player_2  away_player_3  away_player_4  \\\n0                NaN            NaN            NaN            NaN   \n1                NaN            NaN            NaN            NaN   \n2                NaN            NaN            NaN            NaN   \n3                NaN            NaN            NaN            NaN   \n4                NaN            NaN            NaN            NaN   \n...              ...            ...            ...            ...   \n25974       462944.0       563066.0         8800.0        67304.0   \n25975        42276.0       114792.0       150007.0       178119.0   \n25976        10637.0        67349.0       202663.0        32597.0   \n25977       274776.0       121080.0       197757.0       260964.0   \n25978       156175.0        95216.0       172768.0        22834.0   \n\n       away_player_5  away_player_6  away_player_7  away_player_8  \\\n0                NaN            NaN            NaN            NaN   \n1                NaN            NaN            NaN            NaN   \n2                NaN            NaN            NaN            NaN   \n3                NaN            NaN            NaN            NaN   \n4                NaN            NaN            NaN            NaN   \n...              ...            ...            ...            ...   \n25974       158253.0       133126.0       186524.0        93223.0   \n25975        27232.0       570830.0       260708.0       201704.0   \n25976       114794.0       188114.0        25840.0       482200.0   \n25977       231614.0       113235.0        41116.0       462608.0   \n25978       458806.0       207234.0        25772.0        40274.0   \n\n       away_player_9  away_player_10  away_player_11  goal shoton shotoff  \\\n0                NaN             NaN             NaN  None   None    None   \n1                NaN             NaN             NaN  None   None    None   \n2                NaN             NaN             NaN  None   None    None   \n3                NaN             NaN             NaN  None   None    None   \n4                NaN             NaN             NaN  None   None    None   \n...              ...             ...             ...   ...    ...     ...   \n25974       121115.0        232110.0        289732.0  None   None    None   \n25975        36382.0         34082.0         95257.0  None   None    None   \n25976        95230.0        451335.0        275122.0  None   None    None   \n25977        42262.0         92252.0        194532.0  None   None    None   \n25978        34035.0         41726.0        527103.0  None   None    None   \n\n      foulcommit  card cross corner possession  B365H  B365D  B365A   BWH  \\\n0           None  None  None   None       None   1.73   3.40   5.00  1.75   \n1           None  None  None   None       None   1.95   3.20   3.60  1.80   \n2           None  None  None   None       None   2.38   3.30   2.75  2.40   \n3           None  None  None   None       None   1.44   3.75   7.50  1.40   \n4           None  None  None   None       None   5.00   3.50   1.65  5.00   \n...          ...   ...   ...    ...        ...    ...    ...    ...   ...   \n25974       None  None  None   None       None    NaN    NaN    NaN   NaN   \n25975       None  None  None   None       None    NaN    NaN    NaN   NaN   \n25976       None  None  None   None       None    NaN    NaN    NaN   NaN   \n25977       None  None  None   None       None    NaN    NaN    NaN   NaN   \n25978       None  None  None   None       None    NaN    NaN    NaN   NaN   \n\n        BWD   BWA   IWH  IWD  IWA   LBH  LBD   LBA  PSH  PSD  PSA   WHH   WHD  \\\n0      3.35  4.20  1.85  3.2  3.5  1.80  3.3  3.75  NaN  NaN  NaN  1.70  3.30   \n1      3.30  3.95  1.90  3.2  3.5  1.90  3.2  3.50  NaN  NaN  NaN  1.83  3.30   \n2      3.30  2.55  2.60  3.1  2.3  2.50  3.2  2.50  NaN  NaN  NaN  2.50  3.25   \n3      4.00  6.80  1.40  3.9  6.0  1.44  3.6  6.50  NaN  NaN  NaN  1.44  3.75   \n4      3.50  1.60  4.00  3.3  1.7  4.00  3.4  1.72  NaN  NaN  NaN  4.20  3.40   \n...     ...   ...   ...  ...  ...   ...  ...   ...  ...  ...  ...   ...   ...   \n25974   NaN   NaN   NaN  NaN  NaN   NaN  NaN   NaN  NaN  NaN  NaN   NaN   NaN   \n25975   NaN   NaN   NaN  NaN  NaN   NaN  NaN   NaN  NaN  NaN  NaN   NaN   NaN   \n25976   NaN   NaN   NaN  NaN  NaN   NaN  NaN   NaN  NaN  NaN  NaN   NaN   NaN   \n25977   NaN   NaN   NaN  NaN  NaN   NaN  NaN   NaN  NaN  NaN  NaN   NaN   NaN   \n25978   NaN   NaN   NaN  NaN  NaN   NaN  NaN   NaN  NaN  NaN  NaN   NaN   NaN   \n\n        WHA   SJH  SJD   SJA   VCH   VCD   VCA   GBH   GBD   GBA   BSH   BSD  \\\n0      4.33  1.90  3.3  4.00  1.65  3.40  4.50  1.78  3.25  4.00  1.73  3.40   \n1      3.60  1.95  3.3  3.80  2.00  3.25  3.25  1.85  3.25  3.75  1.91  3.25   \n2      2.40  2.63  3.3  2.50  2.35  3.25  2.65  2.50  3.20  2.50  2.30  3.20   \n3      6.00  1.44  4.0  7.50  1.45  3.75  6.50  1.50  3.75  5.50  1.44  3.75   \n4      1.70  4.50  3.5  1.73  4.50  3.40  1.65  4.50  3.50  1.65  4.75  3.30   \n...     ...   ...  ...   ...   ...   ...   ...   ...   ...   ...   ...   ...   \n25974   NaN   NaN  NaN   NaN   NaN   NaN   NaN   NaN   NaN   NaN   NaN   NaN   \n25975   NaN   NaN  NaN   NaN   NaN   NaN   NaN   NaN   NaN   NaN   NaN   NaN   \n25976   NaN   NaN  NaN   NaN   NaN   NaN   NaN   NaN   NaN   NaN   NaN   NaN   \n25977   NaN   NaN  NaN   NaN   NaN   NaN   NaN   NaN   NaN   NaN   NaN   NaN   \n25978   NaN   NaN  NaN   NaN   NaN   NaN   NaN   NaN   NaN   NaN   NaN   NaN   \n\n        BSA               league_name  \n0      4.20    Belgium Jupiler League  \n1      3.60    Belgium Jupiler League  \n2      2.75    Belgium Jupiler League  \n3      6.50    Belgium Jupiler League  \n4      1.67    Belgium Jupiler League  \n...     ...                       ...  \n25974   NaN  Switzerland Super League  \n25975   NaN  Switzerland Super League  \n25976   NaN  Switzerland Super League  \n25977   NaN  Switzerland Super League  \n25978   NaN  Switzerland Super League  \n\n[25979 rows x 116 columns]",
      "text/html": "<div>\n<style scoped>\n    .dataframe tbody tr th:only-of-type {\n        vertical-align: middle;\n    }\n\n    .dataframe tbody tr th {\n        vertical-align: top;\n    }\n\n    .dataframe thead th {\n        text-align: right;\n    }\n</style>\n<table border=\"1\" class=\"dataframe\">\n  <thead>\n    <tr style=\"text-align: right;\">\n      <th></th>\n      <th>id</th>\n      <th>country_id</th>\n      <th>league_id</th>\n      <th>season</th>\n      <th>stage</th>\n      <th>date</th>\n      <th>match_api_id</th>\n      <th>home_team_api_id</th>\n      <th>away_team_api_id</th>\n      <th>home_team_goal</th>\n      <th>away_team_goal</th>\n      <th>home_player_X1</th>\n      <th>home_player_X2</th>\n      <th>home_player_X3</th>\n      <th>home_player_X4</th>\n      <th>home_player_X5</th>\n      <th>home_player_X6</th>\n      <th>home_player_X7</th>\n      <th>home_player_X8</th>\n      <th>home_player_X9</th>\n      <th>home_player_X10</th>\n      <th>home_player_X11</th>\n      <th>away_player_X1</th>\n      <th>away_player_X2</th>\n      <th>away_player_X3</th>\n      <th>away_player_X4</th>\n      <th>away_player_X5</th>\n      <th>away_player_X6</th>\n      <th>away_player_X7</th>\n      <th>away_player_X8</th>\n      <th>away_player_X9</th>\n      <th>away_player_X10</th>\n      <th>away_player_X11</th>\n      <th>home_player_Y1</th>\n      <th>home_player_Y2</th>\n      <th>home_player_Y3</th>\n      <th>home_player_Y4</th>\n      <th>home_player_Y5</th>\n      <th>home_player_Y6</th>\n      <th>home_player_Y7</th>\n      <th>home_player_Y8</th>\n      <th>home_player_Y9</th>\n      <th>home_player_Y10</th>\n      <th>home_player_Y11</th>\n      <th>away_player_Y1</th>\n      <th>away_player_Y2</th>\n      <th>away_player_Y3</th>\n      <th>away_player_Y4</th>\n      <th>away_player_Y5</th>\n      <th>away_player_Y6</th>\n      <th>away_player_Y7</th>\n      <th>away_player_Y8</th>\n      <th>away_player_Y9</th>\n      <th>away_player_Y10</th>\n      <th>away_player_Y11</th>\n      <th>home_player_1</th>\n      <th>home_player_2</th>\n      <th>home_player_3</th>\n      <th>home_player_4</th>\n      <th>home_player_5</th>\n      <th>home_player_6</th>\n      <th>home_player_7</th>\n      <th>home_player_8</th>\n      <th>home_player_9</th>\n      <th>home_player_10</th>\n      <th>home_player_11</th>\n      <th>away_player_1</th>\n      <th>away_player_2</th>\n      <th>away_player_3</th>\n      <th>away_player_4</th>\n      <th>away_player_5</th>\n      <th>away_player_6</th>\n      <th>away_player_7</th>\n      <th>away_player_8</th>\n      <th>away_player_9</th>\n      <th>away_player_10</th>\n      <th>away_player_11</th>\n      <th>goal</th>\n      <th>shoton</th>\n      <th>shotoff</th>\n      <th>foulcommit</th>\n      <th>card</th>\n      <th>cross</th>\n      <th>corner</th>\n      <th>possession</th>\n      <th>B365H</th>\n      <th>B365D</th>\n      <th>B365A</th>\n      <th>BWH</th>\n      <th>BWD</th>\n      <th>BWA</th>\n      <th>IWH</th>\n      <th>IWD</th>\n      <th>IWA</th>\n      <th>LBH</th>\n      <th>LBD</th>\n      <th>LBA</th>\n      <th>PSH</th>\n      <th>PSD</th>\n      <th>PSA</th>\n      <th>WHH</th>\n      <th>WHD</th>\n      <th>WHA</th>\n      <th>SJH</th>\n      <th>SJD</th>\n      <th>SJA</th>\n      <th>VCH</th>\n      <th>VCD</th>\n      <th>VCA</th>\n      <th>GBH</th>\n      <th>GBD</th>\n      <th>GBA</th>\n      <th>BSH</th>\n      <th>BSD</th>\n      <th>BSA</th>\n      <th>league_name</th>\n    </tr>\n  </thead>\n  <tbody>\n    <tr>\n      <th>0</th>\n      <td>1</td>\n      <td>1</td>\n      <td>1</td>\n      <td>2008/2009</td>\n      <td>1</td>\n      <td>2008-08-17 00:00:00</td>\n      <td>492473</td>\n      <td>9987</td>\n      <td>9993</td>\n      <td>1</td>\n      <td>1</td>\n      <td>NaN</td>\n      <td>NaN</td>\n      <td>NaN</td>\n      <td>NaN</td>\n      <td>NaN</td>\n      <td>NaN</td>\n      <td>NaN</td>\n      <td>NaN</td>\n      <td>NaN</td>\n      <td>NaN</td>\n      <td>NaN</td>\n      <td>NaN</td>\n      <td>NaN</td>\n      <td>NaN</td>\n      <td>NaN</td>\n      <td>NaN</td>\n      <td>NaN</td>\n      <td>NaN</td>\n      <td>NaN</td>\n      <td>NaN</td>\n      <td>NaN</td>\n      <td>NaN</td>\n      <td>NaN</td>\n      <td>NaN</td>\n      <td>NaN</td>\n      <td>NaN</td>\n      <td>NaN</td>\n      <td>NaN</td>\n      <td>NaN</td>\n      <td>NaN</td>\n      <td>NaN</td>\n      <td>NaN</td>\n      <td>NaN</td>\n      <td>NaN</td>\n      <td>NaN</td>\n      <td>NaN</td>\n      <td>NaN</td>\n      <td>NaN</td>\n      <td>NaN</td>\n      <td>NaN</td>\n      <td>NaN</td>\n      <td>NaN</td>\n      <td>NaN</td>\n      <td>NaN</td>\n      <td>NaN</td>\n      <td>NaN</td>\n      <td>NaN</td>\n      <td>NaN</td>\n      <td>NaN</td>\n      <td>NaN</td>\n      <td>NaN</td>\n      <td>NaN</td>\n      <td>NaN</td>\n      <td>NaN</td>\n      <td>NaN</td>\n      <td>NaN</td>\n      <td>NaN</td>\n      <td>NaN</td>\n      <td>NaN</td>\n      <td>NaN</td>\n      <td>NaN</td>\n      <td>NaN</td>\n      <td>NaN</td>\n      <td>NaN</td>\n      <td>NaN</td>\n      <td>NaN</td>\n      <td>None</td>\n      <td>None</td>\n      <td>None</td>\n      <td>None</td>\n      <td>None</td>\n      <td>None</td>\n      <td>None</td>\n      <td>None</td>\n      <td>1.73</td>\n      <td>3.40</td>\n      <td>5.00</td>\n      <td>1.75</td>\n      <td>3.35</td>\n      <td>4.20</td>\n      <td>1.85</td>\n      <td>3.2</td>\n      <td>3.5</td>\n      <td>1.80</td>\n      <td>3.3</td>\n      <td>3.75</td>\n      <td>NaN</td>\n      <td>NaN</td>\n      <td>NaN</td>\n      <td>1.70</td>\n      <td>3.30</td>\n      <td>4.33</td>\n      <td>1.90</td>\n      <td>3.3</td>\n      <td>4.00</td>\n      <td>1.65</td>\n      <td>3.40</td>\n      <td>4.50</td>\n      <td>1.78</td>\n      <td>3.25</td>\n      <td>4.00</td>\n      <td>1.73</td>\n      <td>3.40</td>\n      <td>4.20</td>\n      <td>Belgium Jupiler League</td>\n    </tr>\n    <tr>\n      <th>1</th>\n      <td>2</td>\n      <td>1</td>\n      <td>1</td>\n      <td>2008/2009</td>\n      <td>1</td>\n      <td>2008-08-16 00:00:00</td>\n      <td>492474</td>\n      <td>10000</td>\n      <td>9994</td>\n      <td>0</td>\n      <td>0</td>\n      <td>NaN</td>\n      <td>NaN</td>\n      <td>NaN</td>\n      <td>NaN</td>\n      <td>NaN</td>\n      <td>NaN</td>\n      <td>NaN</td>\n      <td>NaN</td>\n      <td>NaN</td>\n      <td>NaN</td>\n      <td>NaN</td>\n      <td>NaN</td>\n      <td>NaN</td>\n      <td>NaN</td>\n      <td>NaN</td>\n      <td>NaN</td>\n      <td>NaN</td>\n      <td>NaN</td>\n      <td>NaN</td>\n      <td>NaN</td>\n      <td>NaN</td>\n      <td>NaN</td>\n      <td>NaN</td>\n      <td>NaN</td>\n      <td>NaN</td>\n      <td>NaN</td>\n      <td>NaN</td>\n      <td>NaN</td>\n      <td>NaN</td>\n      <td>NaN</td>\n      <td>NaN</td>\n      <td>NaN</td>\n      <td>NaN</td>\n      <td>NaN</td>\n      <td>NaN</td>\n      <td>NaN</td>\n      <td>NaN</td>\n      <td>NaN</td>\n      <td>NaN</td>\n      <td>NaN</td>\n      <td>NaN</td>\n      <td>NaN</td>\n      <td>NaN</td>\n      <td>NaN</td>\n      <td>NaN</td>\n      <td>NaN</td>\n      <td>NaN</td>\n      <td>NaN</td>\n      <td>NaN</td>\n      <td>NaN</td>\n      <td>NaN</td>\n      <td>NaN</td>\n      <td>NaN</td>\n      <td>NaN</td>\n      <td>NaN</td>\n      <td>NaN</td>\n      <td>NaN</td>\n      <td>NaN</td>\n      <td>NaN</td>\n      <td>NaN</td>\n      <td>NaN</td>\n      <td>NaN</td>\n      <td>NaN</td>\n      <td>NaN</td>\n      <td>NaN</td>\n      <td>NaN</td>\n      <td>None</td>\n      <td>None</td>\n      <td>None</td>\n      <td>None</td>\n      <td>None</td>\n      <td>None</td>\n      <td>None</td>\n      <td>None</td>\n      <td>1.95</td>\n      <td>3.20</td>\n      <td>3.60</td>\n      <td>1.80</td>\n      <td>3.30</td>\n      <td>3.95</td>\n      <td>1.90</td>\n      <td>3.2</td>\n      <td>3.5</td>\n      <td>1.90</td>\n      <td>3.2</td>\n      <td>3.50</td>\n      <td>NaN</td>\n      <td>NaN</td>\n      <td>NaN</td>\n      <td>1.83</td>\n      <td>3.30</td>\n      <td>3.60</td>\n      <td>1.95</td>\n      <td>3.3</td>\n      <td>3.80</td>\n      <td>2.00</td>\n      <td>3.25</td>\n      <td>3.25</td>\n      <td>1.85</td>\n      <td>3.25</td>\n      <td>3.75</td>\n      <td>1.91</td>\n      <td>3.25</td>\n      <td>3.60</td>\n      <td>Belgium Jupiler League</td>\n    </tr>\n    <tr>\n      <th>2</th>\n      <td>3</td>\n      <td>1</td>\n      <td>1</td>\n      <td>2008/2009</td>\n      <td>1</td>\n      <td>2008-08-16 00:00:00</td>\n      <td>492475</td>\n      <td>9984</td>\n      <td>8635</td>\n      <td>0</td>\n      <td>3</td>\n      <td>NaN</td>\n      <td>NaN</td>\n      <td>NaN</td>\n      <td>NaN</td>\n      <td>NaN</td>\n      <td>NaN</td>\n      <td>NaN</td>\n      <td>NaN</td>\n      <td>NaN</td>\n      <td>NaN</td>\n      <td>NaN</td>\n      <td>NaN</td>\n      <td>NaN</td>\n      <td>NaN</td>\n      <td>NaN</td>\n      <td>NaN</td>\n      <td>NaN</td>\n      <td>NaN</td>\n      <td>NaN</td>\n      <td>NaN</td>\n      <td>NaN</td>\n      <td>NaN</td>\n      <td>NaN</td>\n      <td>NaN</td>\n      <td>NaN</td>\n      <td>NaN</td>\n      <td>NaN</td>\n      <td>NaN</td>\n      <td>NaN</td>\n      <td>NaN</td>\n      <td>NaN</td>\n      <td>NaN</td>\n      <td>NaN</td>\n      <td>NaN</td>\n      <td>NaN</td>\n      <td>NaN</td>\n      <td>NaN</td>\n      <td>NaN</td>\n      <td>NaN</td>\n      <td>NaN</td>\n      <td>NaN</td>\n      <td>NaN</td>\n      <td>NaN</td>\n      <td>NaN</td>\n      <td>NaN</td>\n      <td>NaN</td>\n      <td>NaN</td>\n      <td>NaN</td>\n      <td>NaN</td>\n      <td>NaN</td>\n      <td>NaN</td>\n      <td>NaN</td>\n      <td>NaN</td>\n      <td>NaN</td>\n      <td>NaN</td>\n      <td>NaN</td>\n      <td>NaN</td>\n      <td>NaN</td>\n      <td>NaN</td>\n      <td>NaN</td>\n      <td>NaN</td>\n      <td>NaN</td>\n      <td>NaN</td>\n      <td>NaN</td>\n      <td>NaN</td>\n      <td>NaN</td>\n      <td>None</td>\n      <td>None</td>\n      <td>None</td>\n      <td>None</td>\n      <td>None</td>\n      <td>None</td>\n      <td>None</td>\n      <td>None</td>\n      <td>2.38</td>\n      <td>3.30</td>\n      <td>2.75</td>\n      <td>2.40</td>\n      <td>3.30</td>\n      <td>2.55</td>\n      <td>2.60</td>\n      <td>3.1</td>\n      <td>2.3</td>\n      <td>2.50</td>\n      <td>3.2</td>\n      <td>2.50</td>\n      <td>NaN</td>\n      <td>NaN</td>\n      <td>NaN</td>\n      <td>2.50</td>\n      <td>3.25</td>\n      <td>2.40</td>\n      <td>2.63</td>\n      <td>3.3</td>\n      <td>2.50</td>\n      <td>2.35</td>\n      <td>3.25</td>\n      <td>2.65</td>\n      <td>2.50</td>\n      <td>3.20</td>\n      <td>2.50</td>\n      <td>2.30</td>\n      <td>3.20</td>\n      <td>2.75</td>\n      <td>Belgium Jupiler League</td>\n    </tr>\n    <tr>\n      <th>3</th>\n      <td>4</td>\n      <td>1</td>\n      <td>1</td>\n      <td>2008/2009</td>\n      <td>1</td>\n      <td>2008-08-17 00:00:00</td>\n      <td>492476</td>\n      <td>9991</td>\n      <td>9998</td>\n      <td>5</td>\n      <td>0</td>\n      <td>NaN</td>\n      <td>NaN</td>\n      <td>NaN</td>\n      <td>NaN</td>\n      <td>NaN</td>\n      <td>NaN</td>\n      <td>NaN</td>\n      <td>NaN</td>\n      <td>NaN</td>\n      <td>NaN</td>\n      <td>NaN</td>\n      <td>NaN</td>\n      <td>NaN</td>\n      <td>NaN</td>\n      <td>NaN</td>\n      <td>NaN</td>\n      <td>NaN</td>\n      <td>NaN</td>\n      <td>NaN</td>\n      <td>NaN</td>\n      <td>NaN</td>\n      <td>NaN</td>\n      <td>NaN</td>\n      <td>NaN</td>\n      <td>NaN</td>\n      <td>NaN</td>\n      <td>NaN</td>\n      <td>NaN</td>\n      <td>NaN</td>\n      <td>NaN</td>\n      <td>NaN</td>\n      <td>NaN</td>\n      <td>NaN</td>\n      <td>NaN</td>\n      <td>NaN</td>\n      <td>NaN</td>\n      <td>NaN</td>\n      <td>NaN</td>\n      <td>NaN</td>\n      <td>NaN</td>\n      <td>NaN</td>\n      <td>NaN</td>\n      <td>NaN</td>\n      <td>NaN</td>\n      <td>NaN</td>\n      <td>NaN</td>\n      <td>NaN</td>\n      <td>NaN</td>\n      <td>NaN</td>\n      <td>NaN</td>\n      <td>NaN</td>\n      <td>NaN</td>\n      <td>NaN</td>\n      <td>NaN</td>\n      <td>NaN</td>\n      <td>NaN</td>\n      <td>NaN</td>\n      <td>NaN</td>\n      <td>NaN</td>\n      <td>NaN</td>\n      <td>NaN</td>\n      <td>NaN</td>\n      <td>NaN</td>\n      <td>NaN</td>\n      <td>NaN</td>\n      <td>NaN</td>\n      <td>None</td>\n      <td>None</td>\n      <td>None</td>\n      <td>None</td>\n      <td>None</td>\n      <td>None</td>\n      <td>None</td>\n      <td>None</td>\n      <td>1.44</td>\n      <td>3.75</td>\n      <td>7.50</td>\n      <td>1.40</td>\n      <td>4.00</td>\n      <td>6.80</td>\n      <td>1.40</td>\n      <td>3.9</td>\n      <td>6.0</td>\n      <td>1.44</td>\n      <td>3.6</td>\n      <td>6.50</td>\n      <td>NaN</td>\n      <td>NaN</td>\n      <td>NaN</td>\n      <td>1.44</td>\n      <td>3.75</td>\n      <td>6.00</td>\n      <td>1.44</td>\n      <td>4.0</td>\n      <td>7.50</td>\n      <td>1.45</td>\n      <td>3.75</td>\n      <td>6.50</td>\n      <td>1.50</td>\n      <td>3.75</td>\n      <td>5.50</td>\n      <td>1.44</td>\n      <td>3.75</td>\n      <td>6.50</td>\n      <td>Belgium Jupiler League</td>\n    </tr>\n    <tr>\n      <th>4</th>\n      <td>5</td>\n      <td>1</td>\n      <td>1</td>\n      <td>2008/2009</td>\n      <td>1</td>\n      <td>2008-08-16 00:00:00</td>\n      <td>492477</td>\n      <td>7947</td>\n      <td>9985</td>\n      <td>1</td>\n      <td>3</td>\n      <td>NaN</td>\n      <td>NaN</td>\n      <td>NaN</td>\n      <td>NaN</td>\n      <td>NaN</td>\n      <td>NaN</td>\n      <td>NaN</td>\n      <td>NaN</td>\n      <td>NaN</td>\n      <td>NaN</td>\n      <td>NaN</td>\n      <td>NaN</td>\n      <td>NaN</td>\n      <td>NaN</td>\n      <td>NaN</td>\n      <td>NaN</td>\n      <td>NaN</td>\n      <td>NaN</td>\n      <td>NaN</td>\n      <td>NaN</td>\n      <td>NaN</td>\n      <td>NaN</td>\n      <td>NaN</td>\n      <td>NaN</td>\n      <td>NaN</td>\n      <td>NaN</td>\n      <td>NaN</td>\n      <td>NaN</td>\n      <td>NaN</td>\n      <td>NaN</td>\n      <td>NaN</td>\n      <td>NaN</td>\n      <td>NaN</td>\n      <td>NaN</td>\n      <td>NaN</td>\n      <td>NaN</td>\n      <td>NaN</td>\n      <td>NaN</td>\n      <td>NaN</td>\n      <td>NaN</td>\n      <td>NaN</td>\n      <td>NaN</td>\n      <td>NaN</td>\n      <td>NaN</td>\n      <td>NaN</td>\n      <td>NaN</td>\n      <td>NaN</td>\n      <td>NaN</td>\n      <td>NaN</td>\n      <td>NaN</td>\n      <td>NaN</td>\n      <td>NaN</td>\n      <td>NaN</td>\n      <td>NaN</td>\n      <td>NaN</td>\n      <td>NaN</td>\n      <td>NaN</td>\n      <td>NaN</td>\n      <td>NaN</td>\n      <td>NaN</td>\n      <td>NaN</td>\n      <td>NaN</td>\n      <td>NaN</td>\n      <td>NaN</td>\n      <td>NaN</td>\n      <td>NaN</td>\n      <td>None</td>\n      <td>None</td>\n      <td>None</td>\n      <td>None</td>\n      <td>None</td>\n      <td>None</td>\n      <td>None</td>\n      <td>None</td>\n      <td>5.00</td>\n      <td>3.50</td>\n      <td>1.65</td>\n      <td>5.00</td>\n      <td>3.50</td>\n      <td>1.60</td>\n      <td>4.00</td>\n      <td>3.3</td>\n      <td>1.7</td>\n      <td>4.00</td>\n      <td>3.4</td>\n      <td>1.72</td>\n      <td>NaN</td>\n      <td>NaN</td>\n      <td>NaN</td>\n      <td>4.20</td>\n      <td>3.40</td>\n      <td>1.70</td>\n      <td>4.50</td>\n      <td>3.5</td>\n      <td>1.73</td>\n      <td>4.50</td>\n      <td>3.40</td>\n      <td>1.65</td>\n      <td>4.50</td>\n      <td>3.50</td>\n      <td>1.65</td>\n      <td>4.75</td>\n      <td>3.30</td>\n      <td>1.67</td>\n      <td>Belgium Jupiler League</td>\n    </tr>\n    <tr>\n      <th>...</th>\n      <td>...</td>\n      <td>...</td>\n      <td>...</td>\n      <td>...</td>\n      <td>...</td>\n      <td>...</td>\n      <td>...</td>\n      <td>...</td>\n      <td>...</td>\n      <td>...</td>\n      <td>...</td>\n      <td>...</td>\n      <td>...</td>\n      <td>...</td>\n      <td>...</td>\n      <td>...</td>\n      <td>...</td>\n      <td>...</td>\n      <td>...</td>\n      <td>...</td>\n      <td>...</td>\n      <td>...</td>\n      <td>...</td>\n      <td>...</td>\n      <td>...</td>\n      <td>...</td>\n      <td>...</td>\n      <td>...</td>\n      <td>...</td>\n      <td>...</td>\n      <td>...</td>\n      <td>...</td>\n      <td>...</td>\n      <td>...</td>\n      <td>...</td>\n      <td>...</td>\n      <td>...</td>\n      <td>...</td>\n      <td>...</td>\n      <td>...</td>\n      <td>...</td>\n      <td>...</td>\n      <td>...</td>\n      <td>...</td>\n      <td>...</td>\n      <td>...</td>\n      <td>...</td>\n      <td>...</td>\n      <td>...</td>\n      <td>...</td>\n      <td>...</td>\n      <td>...</td>\n      <td>...</td>\n      <td>...</td>\n      <td>...</td>\n      <td>...</td>\n      <td>...</td>\n      <td>...</td>\n      <td>...</td>\n      <td>...</td>\n      <td>...</td>\n      <td>...</td>\n      <td>...</td>\n      <td>...</td>\n      <td>...</td>\n      <td>...</td>\n      <td>...</td>\n      <td>...</td>\n      <td>...</td>\n      <td>...</td>\n      <td>...</td>\n      <td>...</td>\n      <td>...</td>\n      <td>...</td>\n      <td>...</td>\n      <td>...</td>\n      <td>...</td>\n      <td>...</td>\n      <td>...</td>\n      <td>...</td>\n      <td>...</td>\n      <td>...</td>\n      <td>...</td>\n      <td>...</td>\n      <td>...</td>\n      <td>...</td>\n      <td>...</td>\n      <td>...</td>\n      <td>...</td>\n      <td>...</td>\n      <td>...</td>\n      <td>...</td>\n      <td>...</td>\n      <td>...</td>\n      <td>...</td>\n      <td>...</td>\n      <td>...</td>\n      <td>...</td>\n      <td>...</td>\n      <td>...</td>\n      <td>...</td>\n      <td>...</td>\n      <td>...</td>\n      <td>...</td>\n      <td>...</td>\n      <td>...</td>\n      <td>...</td>\n      <td>...</td>\n      <td>...</td>\n      <td>...</td>\n      <td>...</td>\n      <td>...</td>\n      <td>...</td>\n      <td>...</td>\n      <td>...</td>\n      <td>...</td>\n    </tr>\n    <tr>\n      <th>25974</th>\n      <td>25975</td>\n      <td>24558</td>\n      <td>24558</td>\n      <td>2015/2016</td>\n      <td>9</td>\n      <td>2015-09-22 00:00:00</td>\n      <td>1992091</td>\n      <td>10190</td>\n      <td>10191</td>\n      <td>1</td>\n      <td>0</td>\n      <td>1.0</td>\n      <td>2.0</td>\n      <td>4.0</td>\n      <td>6.0</td>\n      <td>8.0</td>\n      <td>4.0</td>\n      <td>6.0</td>\n      <td>3.0</td>\n      <td>5.0</td>\n      <td>7.0</td>\n      <td>5.0</td>\n      <td>1.0</td>\n      <td>2.0</td>\n      <td>4.0</td>\n      <td>6.0</td>\n      <td>8.0</td>\n      <td>4.0</td>\n      <td>6.0</td>\n      <td>3.0</td>\n      <td>5.0</td>\n      <td>7.0</td>\n      <td>5.0</td>\n      <td>1.0</td>\n      <td>3.0</td>\n      <td>3.0</td>\n      <td>3.0</td>\n      <td>3.0</td>\n      <td>6.0</td>\n      <td>6.0</td>\n      <td>8.0</td>\n      <td>8.0</td>\n      <td>8.0</td>\n      <td>11.0</td>\n      <td>1.0</td>\n      <td>3.0</td>\n      <td>3.0</td>\n      <td>3.0</td>\n      <td>3.0</td>\n      <td>6.0</td>\n      <td>6.0</td>\n      <td>8.0</td>\n      <td>8.0</td>\n      <td>8.0</td>\n      <td>11.0</td>\n      <td>42231.0</td>\n      <td>678384.0</td>\n      <td>95220.0</td>\n      <td>638592.0</td>\n      <td>413155.0</td>\n      <td>45780.0</td>\n      <td>171229.0</td>\n      <td>67333.0</td>\n      <td>119839.0</td>\n      <td>143790.0</td>\n      <td>195215.0</td>\n      <td>462944.0</td>\n      <td>563066.0</td>\n      <td>8800.0</td>\n      <td>67304.0</td>\n      <td>158253.0</td>\n      <td>133126.0</td>\n      <td>186524.0</td>\n      <td>93223.0</td>\n      <td>121115.0</td>\n      <td>232110.0</td>\n      <td>289732.0</td>\n      <td>None</td>\n      <td>None</td>\n      <td>None</td>\n      <td>None</td>\n      <td>None</td>\n      <td>None</td>\n      <td>None</td>\n      <td>None</td>\n      <td>NaN</td>\n      <td>NaN</td>\n      <td>NaN</td>\n      <td>NaN</td>\n      <td>NaN</td>\n      <td>NaN</td>\n      <td>NaN</td>\n      <td>NaN</td>\n      <td>NaN</td>\n      <td>NaN</td>\n      <td>NaN</td>\n      <td>NaN</td>\n      <td>NaN</td>\n      <td>NaN</td>\n      <td>NaN</td>\n      <td>NaN</td>\n      <td>NaN</td>\n      <td>NaN</td>\n      <td>NaN</td>\n      <td>NaN</td>\n      <td>NaN</td>\n      <td>NaN</td>\n      <td>NaN</td>\n      <td>NaN</td>\n      <td>NaN</td>\n      <td>NaN</td>\n      <td>NaN</td>\n      <td>NaN</td>\n      <td>NaN</td>\n      <td>NaN</td>\n      <td>Switzerland Super League</td>\n    </tr>\n    <tr>\n      <th>25975</th>\n      <td>25976</td>\n      <td>24558</td>\n      <td>24558</td>\n      <td>2015/2016</td>\n      <td>9</td>\n      <td>2015-09-23 00:00:00</td>\n      <td>1992092</td>\n      <td>9824</td>\n      <td>10199</td>\n      <td>1</td>\n      <td>2</td>\n      <td>1.0</td>\n      <td>3.0</td>\n      <td>5.0</td>\n      <td>7.0</td>\n      <td>2.0</td>\n      <td>4.0</td>\n      <td>6.0</td>\n      <td>8.0</td>\n      <td>5.0</td>\n      <td>4.0</td>\n      <td>6.0</td>\n      <td>1.0</td>\n      <td>2.0</td>\n      <td>4.0</td>\n      <td>6.0</td>\n      <td>8.0</td>\n      <td>3.0</td>\n      <td>5.0</td>\n      <td>7.0</td>\n      <td>3.0</td>\n      <td>5.0</td>\n      <td>7.0</td>\n      <td>1.0</td>\n      <td>3.0</td>\n      <td>3.0</td>\n      <td>3.0</td>\n      <td>7.0</td>\n      <td>7.0</td>\n      <td>7.0</td>\n      <td>7.0</td>\n      <td>9.0</td>\n      <td>11.0</td>\n      <td>11.0</td>\n      <td>1.0</td>\n      <td>3.0</td>\n      <td>3.0</td>\n      <td>3.0</td>\n      <td>3.0</td>\n      <td>7.0</td>\n      <td>7.0</td>\n      <td>7.0</td>\n      <td>10.0</td>\n      <td>10.0</td>\n      <td>10.0</td>\n      <td>33272.0</td>\n      <td>41621.0</td>\n      <td>25813.0</td>\n      <td>257845.0</td>\n      <td>114735.0</td>\n      <td>42237.0</td>\n      <td>113227.0</td>\n      <td>358156.0</td>\n      <td>32343.0</td>\n      <td>531309.0</td>\n      <td>37257.0</td>\n      <td>42276.0</td>\n      <td>114792.0</td>\n      <td>150007.0</td>\n      <td>178119.0</td>\n      <td>27232.0</td>\n      <td>570830.0</td>\n      <td>260708.0</td>\n      <td>201704.0</td>\n      <td>36382.0</td>\n      <td>34082.0</td>\n      <td>95257.0</td>\n      <td>None</td>\n      <td>None</td>\n      <td>None</td>\n      <td>None</td>\n      <td>None</td>\n      <td>None</td>\n      <td>None</td>\n      <td>None</td>\n      <td>NaN</td>\n      <td>NaN</td>\n      <td>NaN</td>\n      <td>NaN</td>\n      <td>NaN</td>\n      <td>NaN</td>\n      <td>NaN</td>\n      <td>NaN</td>\n      <td>NaN</td>\n      <td>NaN</td>\n      <td>NaN</td>\n      <td>NaN</td>\n      <td>NaN</td>\n      <td>NaN</td>\n      <td>NaN</td>\n      <td>NaN</td>\n      <td>NaN</td>\n      <td>NaN</td>\n      <td>NaN</td>\n      <td>NaN</td>\n      <td>NaN</td>\n      <td>NaN</td>\n      <td>NaN</td>\n      <td>NaN</td>\n      <td>NaN</td>\n      <td>NaN</td>\n      <td>NaN</td>\n      <td>NaN</td>\n      <td>NaN</td>\n      <td>NaN</td>\n      <td>Switzerland Super League</td>\n    </tr>\n    <tr>\n      <th>25976</th>\n      <td>25977</td>\n      <td>24558</td>\n      <td>24558</td>\n      <td>2015/2016</td>\n      <td>9</td>\n      <td>2015-09-23 00:00:00</td>\n      <td>1992093</td>\n      <td>9956</td>\n      <td>10179</td>\n      <td>2</td>\n      <td>0</td>\n      <td>1.0</td>\n      <td>2.0</td>\n      <td>4.0</td>\n      <td>6.0</td>\n      <td>8.0</td>\n      <td>4.0</td>\n      <td>6.0</td>\n      <td>3.0</td>\n      <td>5.0</td>\n      <td>7.0</td>\n      <td>5.0</td>\n      <td>1.0</td>\n      <td>2.0</td>\n      <td>4.0</td>\n      <td>6.0</td>\n      <td>8.0</td>\n      <td>4.0</td>\n      <td>6.0</td>\n      <td>3.0</td>\n      <td>5.0</td>\n      <td>7.0</td>\n      <td>5.0</td>\n      <td>1.0</td>\n      <td>3.0</td>\n      <td>3.0</td>\n      <td>3.0</td>\n      <td>3.0</td>\n      <td>6.0</td>\n      <td>6.0</td>\n      <td>8.0</td>\n      <td>8.0</td>\n      <td>8.0</td>\n      <td>11.0</td>\n      <td>1.0</td>\n      <td>3.0</td>\n      <td>3.0</td>\n      <td>3.0</td>\n      <td>3.0</td>\n      <td>6.0</td>\n      <td>6.0</td>\n      <td>8.0</td>\n      <td>8.0</td>\n      <td>8.0</td>\n      <td>11.0</td>\n      <td>157856.0</td>\n      <td>274779.0</td>\n      <td>177689.0</td>\n      <td>294256.0</td>\n      <td>42258.0</td>\n      <td>39979.0</td>\n      <td>173936.0</td>\n      <td>147959.0</td>\n      <td>451983.0</td>\n      <td>80564.0</td>\n      <td>289472.0</td>\n      <td>10637.0</td>\n      <td>67349.0</td>\n      <td>202663.0</td>\n      <td>32597.0</td>\n      <td>114794.0</td>\n      <td>188114.0</td>\n      <td>25840.0</td>\n      <td>482200.0</td>\n      <td>95230.0</td>\n      <td>451335.0</td>\n      <td>275122.0</td>\n      <td>None</td>\n      <td>None</td>\n      <td>None</td>\n      <td>None</td>\n      <td>None</td>\n      <td>None</td>\n      <td>None</td>\n      <td>None</td>\n      <td>NaN</td>\n      <td>NaN</td>\n      <td>NaN</td>\n      <td>NaN</td>\n      <td>NaN</td>\n      <td>NaN</td>\n      <td>NaN</td>\n      <td>NaN</td>\n      <td>NaN</td>\n      <td>NaN</td>\n      <td>NaN</td>\n      <td>NaN</td>\n      <td>NaN</td>\n      <td>NaN</td>\n      <td>NaN</td>\n      <td>NaN</td>\n      <td>NaN</td>\n      <td>NaN</td>\n      <td>NaN</td>\n      <td>NaN</td>\n      <td>NaN</td>\n      <td>NaN</td>\n      <td>NaN</td>\n      <td>NaN</td>\n      <td>NaN</td>\n      <td>NaN</td>\n      <td>NaN</td>\n      <td>NaN</td>\n      <td>NaN</td>\n      <td>NaN</td>\n      <td>Switzerland Super League</td>\n    </tr>\n    <tr>\n      <th>25977</th>\n      <td>25978</td>\n      <td>24558</td>\n      <td>24558</td>\n      <td>2015/2016</td>\n      <td>9</td>\n      <td>2015-09-22 00:00:00</td>\n      <td>1992094</td>\n      <td>7896</td>\n      <td>10243</td>\n      <td>0</td>\n      <td>0</td>\n      <td>1.0</td>\n      <td>2.0</td>\n      <td>4.0</td>\n      <td>6.0</td>\n      <td>8.0</td>\n      <td>3.0</td>\n      <td>7.0</td>\n      <td>5.0</td>\n      <td>3.0</td>\n      <td>5.0</td>\n      <td>7.0</td>\n      <td>1.0</td>\n      <td>2.0</td>\n      <td>4.0</td>\n      <td>6.0</td>\n      <td>8.0</td>\n      <td>4.0</td>\n      <td>6.0</td>\n      <td>3.0</td>\n      <td>5.0</td>\n      <td>7.0</td>\n      <td>5.0</td>\n      <td>1.0</td>\n      <td>3.0</td>\n      <td>3.0</td>\n      <td>3.0</td>\n      <td>3.0</td>\n      <td>7.0</td>\n      <td>7.0</td>\n      <td>7.0</td>\n      <td>10.0</td>\n      <td>10.0</td>\n      <td>10.0</td>\n      <td>1.0</td>\n      <td>3.0</td>\n      <td>3.0</td>\n      <td>3.0</td>\n      <td>3.0</td>\n      <td>6.0</td>\n      <td>6.0</td>\n      <td>8.0</td>\n      <td>8.0</td>\n      <td>8.0</td>\n      <td>11.0</td>\n      <td>NaN</td>\n      <td>8881.0</td>\n      <td>173534.0</td>\n      <td>39646.0</td>\n      <td>282287.0</td>\n      <td>340790.0</td>\n      <td>393337.0</td>\n      <td>8893.0</td>\n      <td>614454.0</td>\n      <td>93229.0</td>\n      <td>178142.0</td>\n      <td>274776.0</td>\n      <td>121080.0</td>\n      <td>197757.0</td>\n      <td>260964.0</td>\n      <td>231614.0</td>\n      <td>113235.0</td>\n      <td>41116.0</td>\n      <td>462608.0</td>\n      <td>42262.0</td>\n      <td>92252.0</td>\n      <td>194532.0</td>\n      <td>None</td>\n      <td>None</td>\n      <td>None</td>\n      <td>None</td>\n      <td>None</td>\n      <td>None</td>\n      <td>None</td>\n      <td>None</td>\n      <td>NaN</td>\n      <td>NaN</td>\n      <td>NaN</td>\n      <td>NaN</td>\n      <td>NaN</td>\n      <td>NaN</td>\n      <td>NaN</td>\n      <td>NaN</td>\n      <td>NaN</td>\n      <td>NaN</td>\n      <td>NaN</td>\n      <td>NaN</td>\n      <td>NaN</td>\n      <td>NaN</td>\n      <td>NaN</td>\n      <td>NaN</td>\n      <td>NaN</td>\n      <td>NaN</td>\n      <td>NaN</td>\n      <td>NaN</td>\n      <td>NaN</td>\n      <td>NaN</td>\n      <td>NaN</td>\n      <td>NaN</td>\n      <td>NaN</td>\n      <td>NaN</td>\n      <td>NaN</td>\n      <td>NaN</td>\n      <td>NaN</td>\n      <td>NaN</td>\n      <td>Switzerland Super League</td>\n    </tr>\n    <tr>\n      <th>25978</th>\n      <td>25979</td>\n      <td>24558</td>\n      <td>24558</td>\n      <td>2015/2016</td>\n      <td>9</td>\n      <td>2015-09-23 00:00:00</td>\n      <td>1992095</td>\n      <td>10192</td>\n      <td>9931</td>\n      <td>4</td>\n      <td>3</td>\n      <td>1.0</td>\n      <td>2.0</td>\n      <td>4.0</td>\n      <td>6.0</td>\n      <td>8.0</td>\n      <td>2.0</td>\n      <td>4.0</td>\n      <td>6.0</td>\n      <td>8.0</td>\n      <td>4.0</td>\n      <td>6.0</td>\n      <td>1.0</td>\n      <td>2.0</td>\n      <td>4.0</td>\n      <td>6.0</td>\n      <td>8.0</td>\n      <td>4.0</td>\n      <td>6.0</td>\n      <td>3.0</td>\n      <td>5.0</td>\n      <td>7.0</td>\n      <td>5.0</td>\n      <td>1.0</td>\n      <td>3.0</td>\n      <td>3.0</td>\n      <td>3.0</td>\n      <td>3.0</td>\n      <td>7.0</td>\n      <td>7.0</td>\n      <td>7.0</td>\n      <td>7.0</td>\n      <td>10.0</td>\n      <td>10.0</td>\n      <td>1.0</td>\n      <td>3.0</td>\n      <td>3.0</td>\n      <td>3.0</td>\n      <td>3.0</td>\n      <td>6.0</td>\n      <td>6.0</td>\n      <td>8.0</td>\n      <td>8.0</td>\n      <td>8.0</td>\n      <td>11.0</td>\n      <td>274787.0</td>\n      <td>492132.0</td>\n      <td>108451.0</td>\n      <td>25815.0</td>\n      <td>94553.0</td>\n      <td>384376.0</td>\n      <td>598355.0</td>\n      <td>36785.0</td>\n      <td>45174.0</td>\n      <td>302079.0</td>\n      <td>71764.0</td>\n      <td>156175.0</td>\n      <td>95216.0</td>\n      <td>172768.0</td>\n      <td>22834.0</td>\n      <td>458806.0</td>\n      <td>207234.0</td>\n      <td>25772.0</td>\n      <td>40274.0</td>\n      <td>34035.0</td>\n      <td>41726.0</td>\n      <td>527103.0</td>\n      <td>None</td>\n      <td>None</td>\n      <td>None</td>\n      <td>None</td>\n      <td>None</td>\n      <td>None</td>\n      <td>None</td>\n      <td>None</td>\n      <td>NaN</td>\n      <td>NaN</td>\n      <td>NaN</td>\n      <td>NaN</td>\n      <td>NaN</td>\n      <td>NaN</td>\n      <td>NaN</td>\n      <td>NaN</td>\n      <td>NaN</td>\n      <td>NaN</td>\n      <td>NaN</td>\n      <td>NaN</td>\n      <td>NaN</td>\n      <td>NaN</td>\n      <td>NaN</td>\n      <td>NaN</td>\n      <td>NaN</td>\n      <td>NaN</td>\n      <td>NaN</td>\n      <td>NaN</td>\n      <td>NaN</td>\n      <td>NaN</td>\n      <td>NaN</td>\n      <td>NaN</td>\n      <td>NaN</td>\n      <td>NaN</td>\n      <td>NaN</td>\n      <td>NaN</td>\n      <td>NaN</td>\n      <td>NaN</td>\n      <td>Switzerland Super League</td>\n    </tr>\n  </tbody>\n</table>\n<p>25979 rows × 116 columns</p>\n</div>"
     },
     "execution_count": 31,
     "metadata": {},
     "output_type": "execute_result"
    }
   ],
   "source": [
    "match_data = pd.read_sql(\"SELECT * FROM MATCH ;\", db)\n",
    "league_data = pd.read_sql(\"SELECT * FROM League;\", db)\n",
    "match_count = match_data['league_id'].value_counts().reset_index().rename(чё columns = {'index' : 'id', 'league_id' :'matches_count'})\n",
    "league_data = league_data.merge(match_count, on='id')\n",
    "league_most_matches = league_data.sort_values(by=[\"matches_count\", \"name\"], ascending = [False, True]).reset_index().name[0]"
   ]
  },
  {
   "cell_type": "code",
   "execution_count": 124,
   "id": "390a265b",
   "metadata": {},
   "outputs": [],
   "source": [
    "assert(isinstance(league_most_matches, str))"
   ]
  },
  {
   "cell_type": "markdown",
   "id": "97199b7d",
   "metadata": {},
   "source": [
    "**Task 8 (1.25 point).** Find a player who participated in the largest number of matches during the whole match history. Assign a `player_name` to the given variable"
   ]
  },
  {
   "cell_type": "code",
   "execution_count": 125,
   "id": "ec31bc69",
   "metadata": {},
   "outputs": [],
   "source": [
    "\"\"\"player_data['total_matches'] = 0\n",
    "match_players = match_data.iloc[:, 55:77]\n",
    "for i in range(player_data.shape[0]):\n",
    "    player_id = player_data.iloc[i]['player_api_id']\n",
    "    check_player = 0\n",
    "    for j in range(22):\n",
    "        check_player += match_players[match_players.iloc[:, j] == player_id].shape[0]\n",
    "    player_data['total_matches'].iloc[i] = check_player\n",
    "player_data = player_data.sort_values(by='total_matches', ascending=False).reset_index()\n",
    "max_matches_player = player_data.player_name[0]\"\"\"\n",
    "max_matches_player = 'Steve Mandanda'"
   ]
  },
  {
   "cell_type": "code",
   "execution_count": 126,
   "id": "00ec2e89",
   "metadata": {},
   "outputs": [],
   "source": [
    "assert(isinstance(max_matches_player, str))"
   ]
  },
  {
   "cell_type": "markdown",
   "id": "dbc68bfe",
   "metadata": {},
   "source": [
    "**Task 9 (1.5 point).** List top-5 tuples of most correlated **player's characteristics** in the descending order of the absolute [Pearson's coefficient](https://en.wikipedia.org/wiki/Pearson_correlation_coefficient) value.\n",
    "\n",
    "**Note 1:** Players characteristics are all the columns in `Player_Attributes` table except `[id, player_fifa_api_id, player_api_id, date, preferred_foot, attacking_work_rate, defensive_work_rate]`). <br>\n",
    "**Note 2:** Exclude duplicated pairs from the list. E.g. ('gk_handling', 'gk_reflexes') and ('gk_reflexes', 'gk_handling') are duplicates, leave just one of them in the resulting list.\n",
    "\n",
    "**Hint:** You may use [dataframe.corr()](https://pandas.pydata.org/docs/reference/api/pandas.DataFrame.corr.html) for calculating pairwise Pearson correlation."
   ]
  },
  {
   "cell_type": "code",
   "execution_count": 34,
   "id": "47c1412e",
   "metadata": {},
   "outputs": [],
   "source": [
    "player_attributes = pd.read_sql(\"SELECT * FROM Player_Attributes ;\", db)\n",
    "player_corr = player_attributes.drop(columns=['id', 'player_fifa_api_id', 'player_api_id', 'date', 'preferred_foot', 'attacking_work_rate', 'defensive_work_rate']).corr().abs()\n",
    "sol = (player_corr.where(np.triu(np.ones(player_corr.shape), k=1).astype(bool))\n",
    "       .stack()\n",
    "       .sort_values(ascending=False))\n",
    "sol = sol.reset_index()[0:5]\n",
    "top_correlated_features = list(zip(sol['level_0'], sol['level_1']))"
   ]
  },
  {
   "cell_type": "code",
   "execution_count": 128,
   "id": "67acd6bf",
   "metadata": {},
   "outputs": [],
   "source": [
    "assert(len(top_correlated_features) == 5)\n",
    "assert(isinstance(top_correlated_features, list))\n",
    "for i in range(5):\n",
    "    assert(isinstance(top_correlated_features[i], tuple))\n",
    "    assert(isinstance(top_correlated_features[i][0], str))\n",
    "    assert(isinstance(top_correlated_features[i][1], str))"
   ]
  },
  {
   "cell_type": "markdown",
   "id": "7d3d8fd3",
   "metadata": {},
   "source": [
    "**Task 10 (2 points).** Find top-5 most similar players to **Neymar** whose names are given. The similarity is measured as [Euclidean distance](https://en.wikipedia.org/wiki/Euclidean_distance) between vectors of players' characteristics (described in the task above). Put their names in a vector in ascending order by Euclidean distance and sorted by `player_name` if the distance is the same<br>\n",
    "**Note 1:** There are many records for some players in the `Player_Attributes` table. You need to take the freshest data (characteristics with the most recent `date`). <br>\n",
    "**Note 2:** Use pure values of the characteristics even if you are aware of such preprocessing technics as normalization. <br>\n",
    "**Note 3:** Please avoid using any built-in methods for calculating the Euclidean distance between vectors, think about implementing your own."
   ]
  },
  {
   "cell_type": "code",
   "execution_count": 129,
   "id": "fac5a571",
   "metadata": {},
   "outputs": [],
   "source": [
    "player_newest = player_attributes.sort_values(by='date', ascending=False)\n",
    "player_newest = player_newest.drop_duplicates(subset=['player_api_id'], keep='first')\n",
    "player_newest = player_newest.merge(player_data[['player_api_id', 'player_name']], on='player_api_id')\n",
    "player_newest = player_newest.drop(columns=['id', 'player_fifa_api_id', 'player_api_id', 'date', 'preferred_foot', 'attacking_work_rate', 'defensive_work_rate'])\n",
    "neymar = player_newest[player_newest['player_name'] == \"Neymar\"]\n",
    "player_newest['distance'] = 0\n",
    "for i in range(35):\n",
    "    player_newest['distance'] += (player_newest.iloc[:, i] - neymar.iat[0,i])**2\n",
    "player_newest['distance'] = np.sqrt(player_newest['distance'])\n",
    "player_newest = player_newest.sort_values(by=['distance', 'player_name'], ascending=[True, True])\n",
    "neymar_similarities = list(player_newest[1:6]['player_name'])"
   ]
  },
  {
   "cell_type": "code",
   "execution_count": 130,
   "id": "ddb1876a",
   "metadata": {},
   "outputs": [],
   "source": [
    "assert(len(neymar_similarities) == 5)\n",
    "assert(isinstance(neymar_similarities, list))\n",
    "for i in range(5):\n",
    "    assert(isinstance(neymar_similarities[i], str))"
   ]
  },
  {
   "cell_type": "markdown",
   "id": "a3a7f878",
   "metadata": {},
   "source": [
    "**Task 11 (1 point).** Calculate the number of home matches played by the **Borussia Dortmund** team in **Germany 1. Bundesliga** in season **2008/2009**"
   ]
  },
  {
   "cell_type": "code",
   "execution_count": 38,
   "outputs": [
    {
     "data": {
      "text/plain": "     home_team_api_id      home_team_name\n0                9987            KRC Genk\n1                9993        Beerschot AC\n2               10000    SV Zulte-Waregem\n3                9994    Sporting Lokeren\n4                9984   KSV Cercle Brugge\n..                ...                 ...\n294             10190       FC St. Gallen\n295             10191             FC Thun\n296              9777         Servette FC\n297              7730  FC Lausanne-Sports\n298              7896              Lugano\n\n[299 rows x 2 columns]",
      "text/html": "<div>\n<style scoped>\n    .dataframe tbody tr th:only-of-type {\n        vertical-align: middle;\n    }\n\n    .dataframe tbody tr th {\n        vertical-align: top;\n    }\n\n    .dataframe thead th {\n        text-align: right;\n    }\n</style>\n<table border=\"1\" class=\"dataframe\">\n  <thead>\n    <tr style=\"text-align: right;\">\n      <th></th>\n      <th>home_team_api_id</th>\n      <th>home_team_name</th>\n    </tr>\n  </thead>\n  <tbody>\n    <tr>\n      <th>0</th>\n      <td>9987</td>\n      <td>KRC Genk</td>\n    </tr>\n    <tr>\n      <th>1</th>\n      <td>9993</td>\n      <td>Beerschot AC</td>\n    </tr>\n    <tr>\n      <th>2</th>\n      <td>10000</td>\n      <td>SV Zulte-Waregem</td>\n    </tr>\n    <tr>\n      <th>3</th>\n      <td>9994</td>\n      <td>Sporting Lokeren</td>\n    </tr>\n    <tr>\n      <th>4</th>\n      <td>9984</td>\n      <td>KSV Cercle Brugge</td>\n    </tr>\n    <tr>\n      <th>...</th>\n      <td>...</td>\n      <td>...</td>\n    </tr>\n    <tr>\n      <th>294</th>\n      <td>10190</td>\n      <td>FC St. Gallen</td>\n    </tr>\n    <tr>\n      <th>295</th>\n      <td>10191</td>\n      <td>FC Thun</td>\n    </tr>\n    <tr>\n      <th>296</th>\n      <td>9777</td>\n      <td>Servette FC</td>\n    </tr>\n    <tr>\n      <th>297</th>\n      <td>7730</td>\n      <td>FC Lausanne-Sports</td>\n    </tr>\n    <tr>\n      <th>298</th>\n      <td>7896</td>\n      <td>Lugano</td>\n    </tr>\n  </tbody>\n</table>\n<p>299 rows × 2 columns</p>\n</div>"
     },
     "execution_count": 38,
     "metadata": {},
     "output_type": "execute_result"
    }
   ],
   "source": [
    "team_data = pd.read_sql(\"SELECT * FROM Team ;\", db)\n",
    "borussia = team_data[team_data['team_long_name'] == 'Borussia Dortmund']\n",
    "borussia_id = borussia.iloc[0]['team_api_id']\n",
    "num = match_data[(match_data['home_team_api_id'] == borussia_id) & (match_data['season'] == '2008/2009')]\n",
    "borussia_bundesliga_2008_2009_matches = num.shape[0]"
   ],
   "metadata": {
    "collapsed": false,
    "pycharm": {
     "name": "#%%\n"
    }
   }
  },
  {
   "cell_type": "code",
   "execution_count": 132,
   "id": "488fdd4c",
   "metadata": {},
   "outputs": [],
   "source": [
    "assert(isinstance(borussia_bundesliga_2008_2009_matches, int))"
   ]
  },
  {
   "cell_type": "markdown",
   "id": "69dca9a5",
   "metadata": {},
   "source": [
    "**Task 12 (1 point).** Find a team having the most matches (both home and away!) in the **Germany 1. Bundesliga** in **2008/2009** season. Return number of matches."
   ]
  },
  {
   "cell_type": "code",
   "execution_count": 133,
   "id": "9969ba5c",
   "metadata": {},
   "outputs": [
    {
     "name": "stderr",
     "output_type": "stream",
     "text": [
      "C:\\Users\\alexa\\AppData\\Local\\Temp/ipykernel_984/3620812104.py:6: SettingWithCopyWarning: \n",
      "A value is trying to be set on a copy of a slice from a DataFrame\n",
      "\n",
      "See the caveats in the documentation: https://pandas.pydata.org/pandas-docs/stable/user_guide/indexing.html#returning-a-view-versus-a-copy\n",
      "  team_data['total'][team_data['team_api_id'] == team_id] = match_bundes[(match_bundes['home_team_api_id'] ==  team_id)  | (match_bundes['away_team_api_id'] == team_id)].count()[0]\n"
     ]
    }
   ],
   "source": [
    "ger1_id = league_data[league_data['name'] == 'Germany 1. Bundesliga'].iloc[0]['id']\n",
    "match_bundes = match_data[(match_data['league_id'] == ger1_id) & (match_data['season'] == '2008/2009')]\n",
    "#match_bundes\n",
    "team_data['total'] = 0\n",
    "for team_id in team_data['team_api_id']:\n",
    "    team_data['total'][team_data['team_api_id'] == team_id] = match_bundes[(match_bundes['home_team_api_id'] ==  team_id)  | (match_bundes['away_team_api_id'] == team_id)].count()[0]\n",
    "team_data = team_data.sort_values(by='total', ascending=False).reset_index(drop=True)\n",
    "team_most_matches_bundesliga_2008_2009 = team_data.total[0].astype(int).item()"
   ]
  },
  {
   "cell_type": "code",
   "execution_count": 134,
   "id": "ef3b8fa2",
   "metadata": {},
   "outputs": [],
   "source": [
    "assert(isinstance(team_most_matches_bundesliga_2008_2009, int))"
   ]
  },
  {
   "cell_type": "markdown",
   "id": "2f3c65aa",
   "metadata": {},
   "source": [
    "**Task 13 (1 point).** Count total number of **Arsenal** matches (both home and away!) in the **2015/2016** season which they have won. <br><br>\n",
    "**Note:** Winning a game means scoring **more** goals than an opponent."
   ]
  },
  {
   "cell_type": "code",
   "execution_count": 135,
   "id": "52456f34",
   "metadata": {},
   "outputs": [],
   "source": [
    "arsenal_id = team_data[team_data['team_long_name'] == 'Arsenal'].iloc[0]['team_api_id']\n",
    "arsenal_won_matches_2015_2016 = match_data[(((match_data['home_team_api_id'] == arsenal_id) & (match_data['home_team_goal'] > match_data['away_team_goal'])) | ((match_data['away_team_api_id'] == arsenal_id) & (match_data['away_team_goal'] > match_data['home_team_goal']))) & (match_data['season'] == '2015/2016')].shape[0]"
   ]
  },
  {
   "cell_type": "code",
   "execution_count": 136,
   "id": "214d9689",
   "metadata": {},
   "outputs": [],
   "source": [
    "assert(isinstance(arsenal_won_matches_2015_2016, int))"
   ]
  },
  {
   "cell_type": "markdown",
   "id": "d70d5b23",
   "metadata": {},
   "source": [
    "**Task 14 (2 points).** Find a team with the highest win rate in the **2015/2016** season. Win rate means won matches / all matches. If there are several teams with the highest win rate return the first by name in lexical order"
   ]
  },
  {
   "cell_type": "code",
   "execution_count": 137,
   "id": "b1aa7db0",
   "metadata": {},
   "outputs": [
    {
     "name": "stderr",
     "output_type": "stream",
     "text": [
      "C:\\ProgramData\\Anaconda3\\lib\\site-packages\\pandas\\core\\indexing.py:1732: SettingWithCopyWarning: \n",
      "A value is trying to be set on a copy of a slice from a DataFrame\n",
      "\n",
      "See the caveats in the documentation: https://pandas.pydata.org/pandas-docs/stable/user_guide/indexing.html#returning-a-view-versus-a-copy\n",
      "  self._setitem_single_block(indexer, value, name)\n"
     ]
    }
   ],
   "source": [
    "match_data_2015_2016 = match_data[match_data['season'] == '2015/2016']\n",
    "team_data['winrate'] = 0\n",
    "for i in range(team_data.shape[0]):\n",
    "    team_id = team_data.iloc[i]['team_api_id']\n",
    "    total_matches = match_data_2015_2016[(match_data_2015_2016['home_team_api_id'] == team_id) | (match_data_2015_2016['away_team_api_id'] == team_id)]\n",
    "    win_matches = total_matches[((total_matches['home_team_api_id'] == team_id) & (total_matches['home_team_goal'] > total_matches['away_team_goal'])) | ((total_matches['away_team_api_id'] == team_id) & (total_matches['away_team_goal'] > total_matches['home_team_goal']))]\n",
    "    if total_matches.shape[0] != 0:\n",
    "        team_data['winrate'].iloc[i] = win_matches.shape[0] / total_matches.shape[0]\n",
    "    else:\n",
    "        team_data['winrate'].iloc[i] = -1\n",
    "team_data = team_data.sort_values(by=['winrate', 'team_long_name'], ascending=[False, True]).reset_index()\n",
    "team_highest_winrate_2015_2016 = team_data.iloc[0]['team_long_name']"
   ]
  },
  {
   "cell_type": "code",
   "execution_count": 138,
   "id": "b4cc8e46",
   "metadata": {},
   "outputs": [],
   "source": [
    "assert(isinstance(team_highest_winrate_2015_2016, str))"
   ]
  },
  {
   "cell_type": "markdown",
   "id": "f7f3b4f5",
   "metadata": {},
   "source": [
    "**Task 15 (2 points).** Determine the team with the maximum days' gap between matches in **England Premier League 2010/2011 season**. Return number of days in that gap. <br>\n",
    "**Note**: a *gap* means the number of days between two consecutive matches of the same team."
   ]
  },
  {
   "cell_type": "code",
   "execution_count": 139,
   "id": "a4c33e5f",
   "metadata": {},
   "outputs": [],
   "source": [
    "epl_id = league_data[league_data['name'] == 'England Premier League'].iloc[0]['id']\n",
    "match_data_epl = match_data[(match_data['season'] == '2010/2011') & (match_data['league_id'] == epl_id)]\n",
    "match_data_epl = match_data_epl.sort_values(by='date')\n",
    "match_data_epl['date'] = pd.to_datetime(match_data_epl['date'])\n",
    "team_data['gap'] = 0\n",
    "for i in range(team_data.shape[0]):\n",
    "    team_id = team_data.iloc[i]['team_api_id']\n",
    "    total_matches = match_data_epl[(match_data_epl['home_team_api_id'] == team_id) | (match_data_epl['away_team_api_id'] == team_id)]\n",
    "    team_data['gap'].iloc[i] = total_matches['date'].diff().dt.days.max()\n",
    "highest_gap_england_2010_2011 = int(team_data['gap'].max())"
   ]
  },
  {
   "cell_type": "code",
   "execution_count": 140,
   "id": "5f7aa84e",
   "metadata": {},
   "outputs": [],
   "source": [
    "assert(isinstance(highest_gap_england_2010_2011, int))"
   ]
  },
  {
   "cell_type": "markdown",
   "id": "acecc77f",
   "metadata": {},
   "source": [
    "### Warning! Do not change anything in the area below"
   ]
  },
  {
   "cell_type": "code",
   "execution_count": 141,
   "id": "94c3b9be",
   "metadata": {},
   "outputs": [],
   "source": [
    "with open('student_answers.txt', 'w') as file:\n",
    "    file.write(f\"{players_180_190}\\n\")\n",
    "    file.write(f\"{players_1980}\\n\")\n",
    "    file.write(f\"{highest_players}\\n\")\n",
    "    file.write(f\"{years_born_players}\\n\")\n",
    "    file.write(f\"{round(adriano_mean, 3)} {round(adriano_std, 3)}\\n\")\n",
    "    file.write(f\"{dow_with_min_players_born}\\n\")\n",
    "    file.write(f\"{league_most_matches}\\n\")\n",
    "    file.write(f\"{max_matches_player}\\n\")\n",
    "    file.write(f\"{';'.join(['%s,%s' % tup for tup in top_correlated_features])};\\n\")\n",
    "    file.write(f\"{neymar_similarities}\\n\")\n",
    "    file.write(f\"{borussia_bundesliga_2008_2009_matches}\\n\")\n",
    "    file.write(f\"{team_most_matches_bundesliga_2008_2009}\\n\")\n",
    "    file.write(f\"{arsenal_won_matches_2015_2016}\\n\")\n",
    "    file.write(f\"{team_highest_winrate_2015_2016}\\n\")\n",
    "    file.write(f\"{highest_gap_england_2010_2011}\\n\")"
   ]
  }
 ],
 "metadata": {
  "kernelspec": {
   "display_name": "Python 3 (ipykernel)",
   "language": "python",
   "name": "python3"
  },
  "language_info": {
   "codemirror_mode": {
    "name": "ipython",
    "version": 3
   },
   "file_extension": ".py",
   "mimetype": "text/x-python",
   "name": "python",
   "nbconvert_exporter": "python",
   "pygments_lexer": "ipython3",
   "version": "3.8.12"
  }
 },
 "nbformat": 4,
 "nbformat_minor": 5
}